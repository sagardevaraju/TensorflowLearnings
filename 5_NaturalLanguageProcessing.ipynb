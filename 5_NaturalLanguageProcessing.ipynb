{
 "cells": [
  {
   "cell_type": "markdown",
   "id": "3ae76529-e4c2-49f6-8fe1-9934f1370466",
   "metadata": {},
   "source": [
    "# Natural Language Processing \n",
    "Natural Language Processing (or NLP for short) is a discipline in computing that deals with the communication between natural (human) languages and computer languages. A common example of NLP is something like spellcheck or autocomplete. Essentially NLP is the field that focuses on how computers can understand and/or process natural/human languages. \n"
   ]
  },
  {
   "cell_type": "markdown",
   "id": "6923c586-178c-43e1-9980-9426a32b8cd0",
   "metadata": {},
   "source": [
    "## Encoding Text\n",
    "As we know machine learning models and neural networks don't take raw text data as an input. This means we must somehow encode our textual data to numeric values that our models can understand. There are many different ways of doing this and we will look at a few examples below. \n",
    "\n",
    "```I thought the movie was going to be bad, but it was actually amazing!```\n",
    "\n",
    "```I thought the movie was going to be amazing, but it was actually bad!```\n",
    "\n",
    "Although these two setences are very similar we know that they have very different meanings. This is because of the **ordering** of words, a very important property of textual data.\n",
    "\n",
    "### Bag of Words\n",
    "The first and simplest way to encode our data is to use something called **bag of words**. This is a pretty easy technique where each word in a sentence is encoded with an integer and thrown into a collection that does not maintain the order of the words but does keep track of the frequency. Have a look at the python function below that encodes a string of text into bag of words. "
   ]
  },
  {
   "cell_type": "code",
   "execution_count": 3,
   "id": "d91e2d7b-3a92-4144-a2b0-3f381cd60a3f",
   "metadata": {},
   "outputs": [
    {
     "name": "stdout",
     "output_type": "stream",
     "text": [
      "{1: 2, 2: 3, 3: 3, 4: 3, 5: 1, 6: 1, 7: 1, 8: 1, 9: 1}\n",
      "{'this': 1, 'is': 2, 'a': 3, 'test': 4, 'to': 5, 'see': 6, 'if': 7, 'will': 8, 'work': 9}\n"
     ]
    }
   ],
   "source": [
    "vocab = {}  # maps word to integer representing it\n",
    "word_encoding = 1\n",
    "def bag_of_words(text):\n",
    "    global word_encoding\n",
    "    \n",
    "    words = text.lower().split(\" \")  # create a list of all of the words in the text\n",
    "    bag = {}  # stores all of the encodings and their frequency\n",
    "    for word in words:\n",
    "        if word in vocab:\n",
    "            encoding = vocab[word]  # get encoding from vocab\n",
    "        else:\n",
    "            vocab[word] = word_encoding\n",
    "            encoding = word_encoding\n",
    "            word_encoding += 1\n",
    "                \n",
    "        if encoding in bag:\n",
    "            bag[encoding] += 1\n",
    "        else:\n",
    "            bag[encoding] = 1\n",
    "    return bag\n",
    "\n",
    "text = \"this is a test to see if this test will work is is test a a\"\n",
    "bag = bag_of_words(text)\n",
    "print(bag)\n",
    "print(vocab)"
   ]
  },
  {
   "cell_type": "markdown",
   "id": "3ceb6e93-4759-46e2-be5c-cba5a3ea607d",
   "metadata": {},
   "source": [
    "This isn't really the way we would do this in practice. Notice that we've lost the order in which words appear. In fact, let's look at how this encoding works for the two sentences we showed above.\n"
   ]
  },
  {
   "cell_type": "code",
   "execution_count": 4,
   "id": "e3d66768-51f7-41e3-90b7-c69fc0d41ba0",
   "metadata": {},
   "outputs": [
    {
     "name": "stdout",
     "output_type": "stream",
     "text": [
      "Positive: {10: 1, 11: 1, 12: 1, 13: 1, 14: 2, 15: 1, 5: 1, 16: 1, 17: 1, 18: 1, 19: 1, 20: 1, 21: 1}\n",
      "Negative: {10: 1, 11: 1, 12: 1, 13: 1, 14: 2, 15: 1, 5: 1, 16: 1, 21: 1, 18: 1, 19: 1, 20: 1, 17: 1}\n"
     ]
    }
   ],
   "source": [
    "positive_review = \"I thought the movie was going to be bad but it was actually amazing\"\n",
    "negative_review = \"I thought the movie was going to be amazing but it was actually bad\"\n",
    "\n",
    "pos_bag = bag_of_words(positive_review)\n",
    "neg_bag = bag_of_words(negative_review)\n",
    "\n",
    "print(\"Positive:\", pos_bag)\n",
    "print(\"Negative:\", neg_bag)"
   ]
  },
  {
   "cell_type": "markdown",
   "id": "f1777f40-6d03-4aaf-aa82-1b9cf8577cef",
   "metadata": {},
   "source": [
    "### Integer Encoding\n",
    "The next technique we will look at is called **integer encoding**. This involves representing each word or character in a sentence as a unique integer and maintaining the order of these words. This should hopefully fix the problem we saw before were we lost the order of words."
   ]
  },
  {
   "cell_type": "code",
   "execution_count": 6,
   "id": "fc8682ff-466f-4916-97fa-c8b7bca7ed4c",
   "metadata": {},
   "outputs": [
    {
     "name": "stdout",
     "output_type": "stream",
     "text": [
      "[1, 2, 3, 4, 5, 6, 7, 1, 4, 8, 9, 2, 2, 4, 3, 3]\n",
      "{'this': 1, 'is': 2, 'a': 3, 'test': 4, 'to': 5, 'see': 6, 'if': 7, 'will': 8, 'work': 9}\n"
     ]
    }
   ],
   "source": [
    "vocab = {}  \n",
    "word_encoding = 1\n",
    "def one_hot_encoding(text):\n",
    "    global word_encoding\n",
    "    words = text.lower().split(\" \") \n",
    "    encoding = []  \n",
    "    for word in words:\n",
    "        if word in vocab:\n",
    "            code = vocab[word]  \n",
    "            encoding.append(code) \n",
    "        else:\n",
    "            vocab[word] = word_encoding\n",
    "            encoding.append(word_encoding)\n",
    "            word_encoding += 1\n",
    "    return encoding\n",
    "\n",
    "text = \"this is a test to see if this test will work is is test a a\"\n",
    "encoding = one_hot_encoding(text)\n",
    "print(encoding)\n",
    "print(vocab)"
   ]
  },
  {
   "cell_type": "code",
   "execution_count": 7,
   "id": "6bf9fc1a-fab6-490b-9acb-e4f6c16f2abb",
   "metadata": {},
   "outputs": [
    {
     "name": "stdout",
     "output_type": "stream",
     "text": [
      "Positive: [10, 11, 12, 13, 14, 15, 5, 16, 17, 18, 19, 14, 20, 21]\n",
      "Negative: [10, 11, 12, 13, 14, 15, 5, 16, 21, 18, 19, 14, 20, 17]\n"
     ]
    }
   ],
   "source": [
    "positive_review = \"I thought the movie was going to be bad but it was actually amazing\"\n",
    "negative_review = \"I thought the movie was going to be amazing but it was actually bad\"\n",
    "\n",
    "pos_encode = one_hot_encoding(positive_review)\n",
    "neg_encode = one_hot_encoding(negative_review)\n",
    "\n",
    "print(\"Positive:\", pos_encode)\n",
    "print(\"Negative:\", neg_encode)"
   ]
  },
  {
   "cell_type": "markdown",
   "id": "57df0244-10a2-4fd3-bea5-f928981cc633",
   "metadata": {},
   "source": [
    "Ideally when we encode words, we would like similar words to have similar labels and different words to have very different labels. For example, the words happy and joyful should probably have very similar labels so we can determine that they are similar. While words like horrible and amazing should probably have very different labels. The method we looked at above won't be able to do something like this for us. This could mean that the model will have a very difficult time determing if two words are similar or not which could result in some pretty drastic performace impacts."
   ]
  },
  {
   "cell_type": "markdown",
   "id": "e2633de2-25a4-4472-b639-bed97bcaca10",
   "metadata": {},
   "source": [
    "### Word Embeddings\n",
    "This method keeps the order of words intact as well as encodes similar words with very similar labels. It attempts to not only encode the frequency and order of words but the meaning of those words in the sentence. It encodes each word as a dense vector that represents its context in the sentence.\n",
    "\n",
    "Unlike the previous techniques word embeddings are learned by looking at many different training examples. You can add what's called an *embedding layer* to the beggining of your model and while your model trains your embedding layer will learn the correct embeddings for words. You can also use pretrained embedding layers.\n"
   ]
  },
  {
   "cell_type": "markdown",
   "id": "dcd17e0b-4465-4c67-9a12-47ea73714be4",
   "metadata": {},
   "source": [
    "## Recurrent Neural Networks (RNN's)\n",
    "Up until this point we have been using something called **feed-forward** neural networks. This simply means that all our data is fed forwards (all at once) from left to right through the network. This was fine for the problems we considered before but won't work very well for processing text. After all, even we (humans) don't process text all at once. We read word by word from left to right and keep track of the current meaning of the sentence so we can understand the meaning of the next word. Well this is exaclty what a recurrent neural network is designed to do. When we say recurrent neural network all we really mean is a network that contains a loop. A RNN will process one word at a time while maintaining an internal memory of what it's already seen. This will allow it to treat words differently based on their order in a sentence and to slowly build an understanding of the entire input, one word at a time.\n",
    "\n",
    "This is why we are treating our text data as a sequence! So that we can pass one word at a time to the RNN.\n",
    "\n",
    "Let's have a look at what a recurrent layer might look like.\n",
    "\n",
    "![alt text](https://colah.github.io/posts/2015-08-Understanding-LSTMs/img/RNN-unrolled.png)\n",
    "*Source: https://colah.github.io/posts/2015-08-Understanding-LSTMs/*\n",
    "\n",
    "Let's define what all these variables stand for before we get into the explination.\n",
    "\n",
    "**h<sub>t</sub>** output at time t\n",
    "\n",
    "**x<sub>t</sub>** input at time t\n",
    "\n",
    "**A** Recurrent Layer (loop)\n",
    "\n",
    "What this diagram is trying to illustrate is that a recurrent layer processes words or input one at a time in a combination with the output from the previous iteration. So, as we progress further in the input sequence, we build a more complex understanding of the text as a whole.\n",
    "\n",
    "What we've just looked at is called a **simple RNN layer**. It can be effective at processing shorter sequences of text for simple problems but has many downfalls associated with it. One of them being the fact that as text sequences get longer it gets increasingly difficult for the network to understand the text properly.\n",
    "\n"
   ]
  },
  {
   "cell_type": "markdown",
   "id": "d87b9c2b-af89-4ba2-a189-edd319216c37",
   "metadata": {},
   "source": [
    "## LSTM\n",
    "The layer we dicussed in depth above was called a *simpleRNN*. However, there does exist some other recurrent layers (layers that contain a loop) that work much better than a simple RNN layer. The one we will talk about here is called LSTM (Long Short-Term Memory). This layer works very similarily to the simpleRNN layer but adds a way to access inputs from any timestep in the past. Whereas in our simple RNN layer input from previous timestamps gradually disappeared as we got further through the input. With a LSTM we have a long-term memory data structure storing all the previously seen inputs as well as when we saw them. This allows for us to access any previous value we want at any point in time. This adds to the complexity of our network and allows it to discover more useful relationships between inputs and when they appear. "
   ]
  },
  {
   "cell_type": "markdown",
   "id": "db68cee7-b9e7-4c15-833d-b20beb78341b",
   "metadata": {},
   "source": [
    "## Sentiment Analysis\n",
    "And now time to see a recurrent neural network in action. For this example, we are going to do something called sentiment analysis.\n",
    "\n",
    "The formal definition of this term from Wikipedia is as follows:\n",
    "\n",
    "*the process of computationally identifying and categorizing opinions expressed in a piece of text, especially in order to determine whether the writer's attitude towards a particular topic, product, etc. is positive, negative, or neutral.*\n",
    "\n",
    "The example we’ll use here is classifying movie reviews as either postive, negative or neutral.\n",
    "\n",
    "*This guide is based on the following tensorflow tutorial: https://www.tensorflow.org/tutorials/text/text_classification_rnn*\n"
   ]
  },
  {
   "cell_type": "markdown",
   "id": "173bae24-ad7a-47e0-8d23-05597aa20355",
   "metadata": {},
   "source": [
    "### Movie Review Dataset\n",
    "Well start by loading in the IMDB movie review dataset from keras. This dataset contains 25,000 reviews from IMDB where each one is already preprocessed and has a label as either positive or negative. Each review is encoded by integers that represents how common a word is in the entire dataset. For example, a word encoded by the integer 3 means that it is the 3rd most common word in the dataset.\n",
    " "
   ]
  },
  {
   "cell_type": "code",
   "execution_count": 1,
   "id": "094e5c5e-7a0d-4f61-b0fa-b3e1b5490a13",
   "metadata": {},
   "outputs": [],
   "source": [
    "from keras.datasets import imdb\n",
    "from keras.utils import pad_sequences\n",
    "import tensorflow as tf\n",
    "import os\n",
    "import numpy\n",
    "from tensorflow import keras\n",
    "import numpy as np\n",
    "\n",
    "VOCAB_SIZE = 88584\n",
    "MAX_LEN = 250\n",
    "BATCH_SIZE = 64\n",
    "\n",
    "(train_data, train_labels), (test_data, test_labels) = imdb.load_data(num_words = VOCAB_SIZE)"
   ]
  },
  {
   "cell_type": "code",
   "execution_count": 3,
   "id": "4914935e-8055-4390-b925-7eb8c09b31b3",
   "metadata": {},
   "outputs": [
    {
     "data": {
      "text/plain": [
       "189"
      ]
     },
     "metadata": {},
     "output_type": "display_data"
    },
    {
     "data": {
      "text/plain": [
       "218"
      ]
     },
     "metadata": {},
     "output_type": "display_data"
    }
   ],
   "source": [
    "display(len(train_data[1]))\n",
    "display(len(train_data[0]))"
   ]
  },
  {
   "cell_type": "markdown",
   "id": "9927988b-9528-42a1-a1b9-05703cb866d7",
   "metadata": {},
   "source": [
    "### More Preprocessing\n",
    "If we have a look at some of our loaded in reviews, we'll notice that they are different lengths. This is an issue. We cannot pass different length data into our neural network. Therefore, we must make each review the same length. To do this we will follow the procedure below:\n",
    "- if the review is greater than 250 words then trim off the extra words\n",
    "- if the review is less than 250 words add the necessary amount of 0's to make it equal to 250."
   ]
  },
  {
   "cell_type": "code",
   "execution_count": 4,
   "id": "740b6c7b-c202-4b35-94e1-ac30bdc9d0ba",
   "metadata": {},
   "outputs": [],
   "source": [
    "train_data = pad_sequences(train_data, MAX_LEN)\n",
    "test_data = pad_sequences(test_data, MAX_LEN)"
   ]
  },
  {
   "cell_type": "code",
   "execution_count": 5,
   "id": "12ed132c-2a86-40b2-a5b7-edb0b6c3ab01",
   "metadata": {},
   "outputs": [
    {
     "data": {
      "text/plain": [
       "250"
      ]
     },
     "metadata": {},
     "output_type": "display_data"
    },
    {
     "data": {
      "text/plain": [
       "250"
      ]
     },
     "metadata": {},
     "output_type": "display_data"
    }
   ],
   "source": [
    "display(len(train_data[0]))\n",
    "display(len(train_data[1]))"
   ]
  },
  {
   "cell_type": "markdown",
   "id": "a985cce9-9594-479a-a71b-3ed4ff019da9",
   "metadata": {},
   "source": [
    "## Creating the model\n",
    "Now it's time to create the model. We'll use a word embedding layer as the first layer in our model and add a LSTM layer afterwards that feeds into a dense node to get our predicted sentiment. \n",
    "\n",
    "32 stands for the output dimension of the vectors generated by the embedding layer."
   ]
  },
  {
   "cell_type": "code",
   "execution_count": 6,
   "id": "398c155b-a7d1-4b37-92a5-438d0862077e",
   "metadata": {},
   "outputs": [],
   "source": [
    "model = tf.keras.Sequential([\n",
    "    tf.keras.layers.Embedding(VOCAB_SIZE, 32),\n",
    "    tf.keras.layers.LSTM(32), # 32 dimensions for each word\n",
    "    tf.keras.layers.Dense(1, activation='sigmoid') # To predict sentiment \n",
    "])"
   ]
  },
  {
   "cell_type": "code",
   "execution_count": 7,
   "id": "19a79fcd-9e80-4a93-bff2-5f8c535bda41",
   "metadata": {},
   "outputs": [
    {
     "name": "stdout",
     "output_type": "stream",
     "text": [
      "Model: \"sequential\"\n",
      "_________________________________________________________________\n",
      " Layer (type)                Output Shape              Param #   \n",
      "=================================================================\n",
      " embedding (Embedding)       (None, None, 32)          2834688   \n",
      "                                                                 \n",
      " lstm (LSTM)                 (None, 32)                8320      \n",
      "                                                                 \n",
      " dense (Dense)               (None, 1)                 33        \n",
      "                                                                 \n",
      "=================================================================\n",
      "Total params: 2,843,041\n",
      "Trainable params: 2,843,041\n",
      "Non-trainable params: 0\n",
      "_________________________________________________________________\n"
     ]
    }
   ],
   "source": [
    "model.summary()"
   ]
  },
  {
   "cell_type": "markdown",
   "id": "5e672593-1279-4a31-a074-b94ca828a7c9",
   "metadata": {},
   "source": [
    "## Training"
   ]
  },
  {
   "cell_type": "code",
   "execution_count": 8,
   "id": "4b5070b0-a836-407b-ab5b-4a23e33d85bc",
   "metadata": {},
   "outputs": [
    {
     "name": "stdout",
     "output_type": "stream",
     "text": [
      "Epoch 1/10\n",
      "625/625 [==============================] - 37s 55ms/step - loss: 0.4594 - acc: 0.7718 - val_loss: 0.3121 - val_acc: 0.8714\n",
      "Epoch 2/10\n",
      "625/625 [==============================] - 15s 24ms/step - loss: 0.2675 - acc: 0.8964 - val_loss: 0.2860 - val_acc: 0.8844\n",
      "Epoch 3/10\n",
      "625/625 [==============================] - 11s 18ms/step - loss: 0.2010 - acc: 0.9255 - val_loss: 0.2920 - val_acc: 0.8742\n",
      "Epoch 4/10\n",
      "625/625 [==============================] - 11s 18ms/step - loss: 0.1598 - acc: 0.9441 - val_loss: 0.2966 - val_acc: 0.8742\n",
      "Epoch 5/10\n",
      "625/625 [==============================] - 10s 15ms/step - loss: 0.1357 - acc: 0.9542 - val_loss: 0.3092 - val_acc: 0.8768\n",
      "Epoch 6/10\n",
      "625/625 [==============================] - 10s 15ms/step - loss: 0.1110 - acc: 0.9614 - val_loss: 0.3155 - val_acc: 0.8680\n",
      "Epoch 7/10\n",
      "625/625 [==============================] - 9s 15ms/step - loss: 0.0937 - acc: 0.9710 - val_loss: 0.3324 - val_acc: 0.8856\n",
      "Epoch 8/10\n",
      "625/625 [==============================] - 10s 16ms/step - loss: 0.0814 - acc: 0.9745 - val_loss: 0.3823 - val_acc: 0.8770\n",
      "Epoch 9/10\n",
      "625/625 [==============================] - 9s 14ms/step - loss: 0.0659 - acc: 0.9807 - val_loss: 0.3972 - val_acc: 0.8770\n",
      "Epoch 10/10\n",
      "625/625 [==============================] - 9s 14ms/step - loss: 0.0557 - acc: 0.9826 - val_loss: 0.4861 - val_acc: 0.8588\n"
     ]
    }
   ],
   "source": [
    "model.compile(loss=\"binary_crossentropy\", optimizer=\"rmsprop\", metrics=[\"acc\"])\n",
    "history = model.fit(train_data, train_labels, epochs=10, validation_split=0.2)"
   ]
  },
  {
   "cell_type": "code",
   "execution_count": 9,
   "id": "234fe015-02d6-4eaa-8546-a1896e88b5ea",
   "metadata": {},
   "outputs": [
    {
     "name": "stdout",
     "output_type": "stream",
     "text": [
      "782/782 [==============================] - 5s 6ms/step - loss: 0.5003 - acc: 0.8497\n"
     ]
    },
    {
     "data": {
      "text/plain": [
       "[0.5003370642662048, 0.8497200012207031]"
      ]
     },
     "metadata": {},
     "output_type": "display_data"
    }
   ],
   "source": [
    "results = model.evaluate(test_data, test_labels)\n",
    "display(results)"
   ]
  },
  {
   "cell_type": "markdown",
   "id": "ffbbc78d-7f4e-4273-a791-3ce779b46aeb",
   "metadata": {},
   "source": [
    "## Predictions\n",
    "Since our reviews are encoded well need to convert any review that we write into that form so the network can understand it. To do that well load the encodings from the dataset and use them to encode our own data."
   ]
  },
  {
   "cell_type": "code",
   "execution_count": 10,
   "id": "67be35f9-5f9c-4d35-b114-3c7a98320a2a",
   "metadata": {},
   "outputs": [
    {
     "data": {
      "text/plain": [
       "array([   0,    0,    0,    0,    0,    0,    0,    0,    0,    0,    0,\n",
       "          0,    0,    0,    0,    0,    0,    0,    0,    0,    0,    0,\n",
       "          0,    0,    0,    0,    0,    0,    0,    0,    0,    0,    0,\n",
       "          0,    0,    0,    0,    0,    0,    0,    0,    0,    0,    0,\n",
       "          0,    0,    0,    0,    0,    0,    0,    0,    0,    0,    0,\n",
       "          0,    0,    0,    0,    0,    0,    0,    0,    0,    0,    0,\n",
       "          0,    0,    0,    0,    0,    0,    0,    0,    0,    0,    0,\n",
       "          0,    0,    0,    0,    0,    0,    0,    0,    0,    0,    0,\n",
       "          0,    0,    0,    0,    0,    0,    0,    0,    0,    0,    0,\n",
       "          0,    0,    0,    0,    0,    0,    0,    0,    0,    0,    0,\n",
       "          0,    0,    0,    0,    0,    0,    0,    0,    0,    0,    0,\n",
       "          0,    0,    0,    0,    0,    0,    0,    0,    0,    0,    0,\n",
       "          0,    0,    0,    0,    0,    0,    0,    0,    0,    0,    0,\n",
       "          0,    0,    0,    0,    0,    0,    0,    0,    0,    0,    0,\n",
       "          0,    0,    0,    0,    0,    0,    0,    0,    0,    0,    0,\n",
       "          0,    0,    0,    0,    0,    0,    0,    0,    0,    0,    0,\n",
       "          0,    0,    0,    0,    0,    0,    0,    0,    0,    0,    0,\n",
       "          0,    0,    0,    0,    0,    0,    0,    0,    0,    0,    0,\n",
       "          0,    0,    0,    0,    0,    0,    0,    0,    0,    0,    0,\n",
       "          0,    0,    0,    0,    0,    0,    0,    0,    0,    0,    0,\n",
       "          0,    0,    0,    0,    0,    0,    0,    0,    0,    0,    0,\n",
       "          0,    0,    0,    0,    0,    0,    0,    0,    0,    0,    0,\n",
       "          0,   12,   17,   13,   40,  477, 2786,  391], dtype=int32)"
      ]
     },
     "metadata": {},
     "output_type": "display_data"
    }
   ],
   "source": [
    "word_idx = imdb.get_word_index()\n",
    "\n",
    "def encode_text(text):\n",
    "    tokens = keras.preprocessing.text.text_to_word_sequence(text)\n",
    "    tokens = [word_idx[word] if word in word_idx else 0 for word in tokens]\n",
    "    return pad_sequences([tokens], MAX_LEN)[0]\n",
    "\n",
    "text = \"that movie was just amazing, amazingly terrible\"\n",
    "encoded = encode_text(text)\n",
    "display(encoded)"
   ]
  },
  {
   "cell_type": "code",
   "execution_count": 11,
   "id": "09014d7e-6f7a-4388-8296-6b397ca3e282",
   "metadata": {},
   "outputs": [
    {
     "data": {
      "text/plain": [
       "array([   0,    0,    0,    0,    0,    0,    0,    0,    0,    0,    0,\n",
       "          0,    0,    0,    0,    0,    0,    0,    0,    0,    0,    0,\n",
       "          0,    0,    0,    0,    0,    0,    0,    0,    0,    0,    0,\n",
       "          0,    0,    0,    0,    0,    0,    0,    0,    0,    0,    0,\n",
       "          0,    0,    0,    0,    0,    0,    0,    0,    0,    0,    0,\n",
       "          0,    0,    0,    0,    0,    0,    0,    0,    0,    0,    0,\n",
       "          0,    0,    0,    0,    0,    0,    0,    0,    0,    0,    0,\n",
       "          0,    0,    0,    0,    0,    0,    0,    0,    0,    0,    0,\n",
       "          0,    0,    0,    0,    0,    0,    0,    0,    0,    0,    0,\n",
       "          0,    0,    0,    0,    0,    0,    0,    0,    0,    0,    0,\n",
       "          0,    0,    0,    0,    0,    0,    0,    0,    0,    0,    0,\n",
       "          0,    0,    0,    0,    0,    0,    0,    0,    0,    0,    0,\n",
       "          0,    0,    0,    0,    0,    0,    0,    0,    0,    0,    0,\n",
       "          0,    0,    0,    0,    0,    0,    0,    0,    0,    0,    0,\n",
       "          0,    0,    0,    0,    0,    0,    0,    0,    0,    0,    0,\n",
       "          0,    0,    0,    0,    0,    0,    0,    0,    0,    0,    0,\n",
       "          0,    0,    0,    0,    0,    0,    0,    0,    0,    0,    0,\n",
       "          0,    0,    0,    0,    0,    0,    0,    0,    0,    0,    0,\n",
       "          0,    0,    0,    0,    0,    0,    0,    0,    0,    0,    0,\n",
       "          0,    0,    0,    0,    0,    0,    0,    0,    0,    0,    0,\n",
       "          0,    0,    0,    0,    0,    0,    0,    0,    0,    0,    0,\n",
       "          0,    0,    0,    0,    0,    0,    0,    0,    0,    0,    0,\n",
       "          0,   12,   17,   13,   40,  477, 2786,  391], dtype=int32)"
      ]
     },
     "execution_count": 11,
     "metadata": {},
     "output_type": "execute_result"
    }
   ],
   "source": [
    "encoded"
   ]
  },
  {
   "cell_type": "code",
   "execution_count": 12,
   "id": "b95188dc-a811-4cc7-abba-bd62582ed3a7",
   "metadata": {},
   "outputs": [
    {
     "name": "stdout",
     "output_type": "stream",
     "text": [
      "that movie was just amazing amazingly terrible\n"
     ]
    }
   ],
   "source": [
    "## Decode function\n",
    "\n",
    "reverse_word_idx = {value: key for (key, value) in word_idx.items()}\n",
    "\n",
    "def decode_integers(integers):\n",
    "    PAD = 0\n",
    "    text = \"\"\n",
    "    for num in integers:\n",
    "        if num != PAD:\n",
    "            text += reverse_word_idx[num] + \" \"\n",
    "    return text[:-1]\n",
    "\n",
    "print(decode_integers(encoded))"
   ]
  },
  {
   "cell_type": "code",
   "execution_count": 13,
   "id": "c789295b-17a5-4194-b0b4-c7a9355280dc",
   "metadata": {},
   "outputs": [
    {
     "name": "stdout",
     "output_type": "stream",
     "text": [
      "1/1 [==============================] - 0s 187ms/step\n"
     ]
    },
    {
     "data": {
      "text/plain": [
       "array([0.73842233], dtype=float32)"
      ]
     },
     "metadata": {},
     "output_type": "display_data"
    },
    {
     "name": "stdout",
     "output_type": "stream",
     "text": [
      "positive\n",
      "1/1 [==============================] - 0s 14ms/step\n"
     ]
    },
    {
     "data": {
      "text/plain": [
       "array([0.7196801], dtype=float32)"
      ]
     },
     "metadata": {},
     "output_type": "display_data"
    },
    {
     "name": "stdout",
     "output_type": "stream",
     "text": [
      "positive\n"
     ]
    }
   ],
   "source": [
    "def predict(text):\n",
    "    encoded_txt = encode_text(text)\n",
    "    pred = np.zeros((1, 250))\n",
    "    pred[0] = encoded_txt\n",
    "    result = model.predict(pred)\n",
    "    display(result[0])\n",
    "    \n",
    "    if result[0] > 0.70:\n",
    "        print(\"positive\")\n",
    "    else:\n",
    "        print(\"negative\")\n",
    "\n",
    "positive_review = \"Amazing movie, everyone did a fantastic job!\"\n",
    "predict(positive_review)\n",
    "\n",
    "negative_review = \"Amazing movie, never knew a movie could be that bad!\"\n",
    "predict(negative_review)"
   ]
  },
  {
   "cell_type": "code",
   "execution_count": null,
   "id": "35b5c2b0-f3de-4dab-aa73-117211cdf9cf",
   "metadata": {},
   "outputs": [],
   "source": []
  },
  {
   "cell_type": "markdown",
   "id": "796cfddf-7d77-463f-99a8-1ce7e3a66038",
   "metadata": {},
   "source": [
    "## RNN Play Generator\n",
    "\n",
    "We are going to use a RNN to generate a play. We will simply show the RNN an example of something we want it to recreate and it will learn how to write a version of it on its own. We'll do this using a character predictive model that will take as input a variable length sequence and predict the next character. We can use the model many times in a row with the output from the last predicition as the input for the next call to generate a sequence.\n",
    "\n",
    "\n",
    "*This guide is based on the following: https://www.tensorflow.org/tutorials/text/text_generation*"
   ]
  },
  {
   "cell_type": "markdown",
   "id": "1fb3a0eb-2aeb-4eab-a100-c82d650bf1bc",
   "metadata": {},
   "source": [
    "## Dataset"
   ]
  },
  {
   "cell_type": "code",
   "execution_count": 14,
   "id": "74cf18df-7d84-48e3-b690-f8351cf19f8c",
   "metadata": {
    "tags": []
   },
   "outputs": [],
   "source": [
    "path_to_file = tf.keras.utils.get_file('shakespeare.txt', 'https://storage.googleapis.com/download.tensorflow.org/data/shakespeare.txt')"
   ]
  },
  {
   "cell_type": "markdown",
   "id": "dfb9156b-85e8-45fd-86ab-a4a4c10eb3da",
   "metadata": {},
   "source": [
    "## Reading"
   ]
  },
  {
   "cell_type": "code",
   "execution_count": 15,
   "id": "71108b83-6452-4282-95a0-39ff026cb276",
   "metadata": {},
   "outputs": [
    {
     "name": "stdout",
     "output_type": "stream",
     "text": [
      "Length of text is : 1115394\n"
     ]
    }
   ],
   "source": [
    "text = open(path_to_file, 'rb').read().decode(encoding='utf-8')\n",
    "print(\"Length of text is : {}\".format(len(text)))"
   ]
  },
  {
   "cell_type": "code",
   "execution_count": 16,
   "id": "9b11e4f5-b0af-4ef6-a983-41cd8f820e28",
   "metadata": {},
   "outputs": [
    {
     "data": {
      "text/plain": [
       "'First Citizen:\\nBefore we proceed any further, hear'"
      ]
     },
     "metadata": {},
     "output_type": "display_data"
    }
   ],
   "source": [
    "display(text[:50])"
   ]
  },
  {
   "cell_type": "markdown",
   "id": "fd4f3f29-6342-4b1d-864c-b45efc405d51",
   "metadata": {},
   "source": [
    "## Encoding\n",
    "As string isn't encoded, we need to encode it"
   ]
  },
  {
   "cell_type": "code",
   "execution_count": 17,
   "id": "5554c26c-45b0-442c-b5c3-b588ec721a53",
   "metadata": {},
   "outputs": [],
   "source": [
    "vocab = sorted(set(text))\n",
    "char2idx = {u:i for i, u in enumerate(vocab)}\n",
    "idx2char = np.array(vocab)\n",
    "\n",
    "def text_to_int(text):\n",
    "    return np.array([char2idx[c] for c in text])\n",
    "\n",
    "text_as_int = text_to_int(text)"
   ]
  },
  {
   "cell_type": "code",
   "execution_count": 18,
   "id": "3fa11a8e-0a4f-4e8b-bb48-67cf60955c9a",
   "metadata": {},
   "outputs": [
    {
     "data": {
      "text/plain": [
       "array([18, 47, 56, 57, 58,  1, 15, 47, 58, 47, 64, 43, 52, 10,  0, 14, 43,\n",
       "       44, 53, 56, 43,  1, 61, 43,  1, 54, 56, 53, 41, 43, 43, 42,  1, 39,\n",
       "       52, 63,  1, 44, 59, 56, 58, 46, 43, 56,  6,  1, 46, 43, 39, 56])"
      ]
     },
     "metadata": {},
     "output_type": "display_data"
    }
   ],
   "source": [
    "display(text_as_int[:50])"
   ]
  },
  {
   "cell_type": "markdown",
   "id": "45f79f05-570a-4a14-a9e9-4e7efb88fe6d",
   "metadata": {},
   "source": [
    "## Decoding\n",
    "Integer to string coversion"
   ]
  },
  {
   "cell_type": "code",
   "execution_count": 19,
   "id": "48b5b173-43e1-4d79-840d-9b29111dec1e",
   "metadata": {},
   "outputs": [
    {
     "name": "stdout",
     "output_type": "stream",
     "text": [
      "First Citizen:\n",
      "Before we proceed any further, hear\n"
     ]
    }
   ],
   "source": [
    "def int_to_text(integers):\n",
    "    try:\n",
    "        integers = integers.numpy()\n",
    "    except:\n",
    "        pass\n",
    "    return \"\".join(idx2char[integers])\n",
    "\n",
    "print(int_to_text(text_as_int[:50]))"
   ]
  },
  {
   "cell_type": "markdown",
   "id": "e7c38d21-c4b2-44cf-9f4d-77021d334d90",
   "metadata": {},
   "source": [
    "## Creating training example\n",
    "\n",
    "We need to split our text data from above into many shorter sequences that we can pass to the model as training examples. \n",
    "\n",
    "The training examples we will prepapre will use a *seq_length* sequence as input and a *seq_length* sequence as the output where that sequence is the original sequence shifted one letter to the right. For example:\n",
    "\n",
    "```input: Hell | output: ello```\n",
    "\n",
    "Our first step will be to create a stream of characters from our text data."
   ]
  },
  {
   "cell_type": "code",
   "execution_count": 20,
   "id": "27eda6cd-089a-4360-ad6b-4e7aac069576",
   "metadata": {},
   "outputs": [],
   "source": [
    "seq_length = 100\n",
    "examples_per_epoch = len(text) // (seq_length + 1)\n",
    "\n",
    "char_dataset = tf.data.Dataset.from_tensor_slices(text_as_int)"
   ]
  },
  {
   "cell_type": "code",
   "execution_count": 21,
   "id": "ff5de217-a4bd-456c-8cd4-6e99575fdeef",
   "metadata": {},
   "outputs": [],
   "source": [
    "sequences = char_dataset.batch(seq_length + 1, drop_remainder=True)"
   ]
  },
  {
   "cell_type": "code",
   "execution_count": 22,
   "id": "3e8dbc2a-8538-4ab8-bde1-5c1c8f1150c3",
   "metadata": {},
   "outputs": [],
   "source": [
    "def split_input_target(chunk):\n",
    "    input_text = chunk[:-1] # hell\n",
    "    target_text = chunk[1:] # ello\n",
    "    return input_text, target_text\n",
    "\n",
    "dataset = sequences.map(split_input_target) # apply on every entry"
   ]
  },
  {
   "cell_type": "code",
   "execution_count": 23,
   "id": "7e8a50f4-de4f-4a61-a7e3-56a08d3974ea",
   "metadata": {},
   "outputs": [
    {
     "name": "stdout",
     "output_type": "stream",
     "text": [
      "Input: \n",
      "\n"
     ]
    },
    {
     "data": {
      "text/plain": [
       "'First Citizen:\\nBefore we proceed any further, hear me speak.\\n\\nAll:\\nSpeak, speak.\\n\\nFirst Citizen:\\nYou'"
      ]
     },
     "metadata": {},
     "output_type": "display_data"
    },
    {
     "name": "stdout",
     "output_type": "stream",
     "text": [
      "\n",
      "Output:\n"
     ]
    },
    {
     "data": {
      "text/plain": [
       "'irst Citizen:\\nBefore we proceed any further, hear me speak.\\n\\nAll:\\nSpeak, speak.\\n\\nFirst Citizen:\\nYou '"
      ]
     },
     "metadata": {},
     "output_type": "display_data"
    },
    {
     "name": "stdout",
     "output_type": "stream",
     "text": [
      "Input: \n",
      "\n"
     ]
    },
    {
     "data": {
      "text/plain": [
       "'are all resolved rather to die than to famish?\\n\\nAll:\\nResolved. resolved.\\n\\nFirst Citizen:\\nFirst, you '"
      ]
     },
     "metadata": {},
     "output_type": "display_data"
    },
    {
     "name": "stdout",
     "output_type": "stream",
     "text": [
      "\n",
      "Output:\n"
     ]
    },
    {
     "data": {
      "text/plain": [
       "'re all resolved rather to die than to famish?\\n\\nAll:\\nResolved. resolved.\\n\\nFirst Citizen:\\nFirst, you k'"
      ]
     },
     "metadata": {},
     "output_type": "display_data"
    }
   ],
   "source": [
    "for x, y in dataset.take(2):\n",
    "    print(\"Input: \\n\")\n",
    "    display(int_to_text(x))\n",
    "    print(\"\\nOutput:\")\n",
    "    display(int_to_text(y))"
   ]
  },
  {
   "cell_type": "code",
   "execution_count": 24,
   "id": "25ab2734-ef7a-4811-8769-018316bfdb36",
   "metadata": {},
   "outputs": [],
   "source": [
    "BATCH_SIZE = 64\n",
    "VOCAB_SIZE = len(vocab)  # vocab is number of unique characters\n",
    "EMBEDDING_DIM = 256\n",
    "RNN_UNITS = 1024\n",
    "\n",
    "# Buffer size to shuffle the dataset\n",
    "# (TF data is designed to work with possibly infinite sequences,\n",
    "# so it doesn't attempt to shuffle the entire sequence in memory. Instead,\n",
    "# it maintains a buffer in which it shuffles elements).\n",
    "BUFFER_SIZE = 10000\n",
    "\n",
    "data = dataset.shuffle(BUFFER_SIZE).batch(BATCH_SIZE, drop_remainder=True)"
   ]
  },
  {
   "cell_type": "markdown",
   "id": "5ef6156f-96e4-4552-ba52-2ed7fdebb3c6",
   "metadata": {},
   "source": [
    "### Building the Model\n",
    "Now it is time to build the model. We will use an embedding layer a LSTM and one dense layer that contains a node for each unique character in our training data. The dense layer will give us a probability distribution over all nodes."
   ]
  },
  {
   "cell_type": "code",
   "execution_count": 25,
   "id": "36930e50-751c-4106-bc8d-5bbd4dbd541d",
   "metadata": {},
   "outputs": [],
   "source": [
    "def build_model(vocab_size, embedding_dim, rnn_units, batch_size):\n",
    "    model = tf.keras.Sequential([\n",
    "        tf.keras.layers.Embedding(vocab_size, embedding_dim, \n",
    "                                  batch_input_shape=[batch_size, None]),\n",
    "        tf.keras.layers.LSTM(rnn_units, \n",
    "                             return_sequences=True,\n",
    "                             stateful=True,\n",
    "                             recurrent_initializer='glorot_uniform'),\n",
    "        tf.keras.layers.Dense(vocab_size)\n",
    "    ])\n",
    "    return model"
   ]
  },
  {
   "cell_type": "code",
   "execution_count": 26,
   "id": "c84d38f9-5e85-4f56-b5a9-c02e4e460826",
   "metadata": {},
   "outputs": [
    {
     "name": "stdout",
     "output_type": "stream",
     "text": [
      "Model: \"sequential_1\"\n",
      "_________________________________________________________________\n",
      " Layer (type)                Output Shape              Param #   \n",
      "=================================================================\n",
      " embedding_1 (Embedding)     (64, None, 256)           16640     \n",
      "                                                                 \n",
      " lstm_1 (LSTM)               (64, None, 1024)          5246976   \n",
      "                                                                 \n",
      " dense_1 (Dense)             (64, None, 65)            66625     \n",
      "                                                                 \n",
      "=================================================================\n",
      "Total params: 5,330,241\n",
      "Trainable params: 5,330,241\n",
      "Non-trainable params: 0\n",
      "_________________________________________________________________\n"
     ]
    }
   ],
   "source": [
    "model = build_model(VOCAB_SIZE, EMBEDDING_DIM, RNN_UNITS, BATCH_SIZE)\n",
    "model.summary()"
   ]
  },
  {
   "cell_type": "markdown",
   "id": "c6290b7d-54d0-4515-9a46-83f7872d5563",
   "metadata": {},
   "source": [
    "## Creating a loss function\n",
    "This is because our model will output a (64, sequence_length, 65) shaped tensor that represents the probability distribution of each character at each timestep for every sequence in the batch. "
   ]
  },
  {
   "cell_type": "code",
   "execution_count": 27,
   "id": "d38b4ed0-3dc3-4324-95c0-2816b424d56f",
   "metadata": {},
   "outputs": [
    {
     "data": {
      "text/plain": [
       "TensorShape([64, 100, 65])"
      ]
     },
     "metadata": {},
     "output_type": "display_data"
    }
   ],
   "source": [
    "for input_example_batch, target_example_batch in data.take(1):\n",
    "    example_batch_predictions = model(input_example_batch)\n",
    "    display(example_batch_predictions.shape)  # batch_size, sequence_length, vocab_size"
   ]
  },
  {
   "cell_type": "code",
   "execution_count": 28,
   "id": "33abd136-ca0b-4de5-8a86-8955f65793fd",
   "metadata": {},
   "outputs": [
    {
     "name": "stdout",
     "output_type": "stream",
     "text": [
      "64\n",
      "tf.Tensor(\n",
      "[[-1.4138003e-03  7.2786738e-03  2.1422342e-03 ... -1.1523946e-03\n",
      "   3.6591140e-03 -3.4696646e-03]\n",
      " [-2.6598424e-03 -2.6801992e-03 -4.0187775e-03 ...  3.9131213e-03\n",
      "   9.3807876e-03  2.7170673e-03]\n",
      " [-3.5878513e-03 -4.2829051e-04 -8.6737127e-04 ...  7.4127386e-03\n",
      "   4.8838607e-03  2.0067964e-05]\n",
      " ...\n",
      " [-7.9573103e-05  1.3600210e-02  6.1783371e-03 ...  4.1667977e-03\n",
      "   8.8538509e-03  1.6807641e-03]\n",
      " [-2.3483145e-03  1.3609552e-02  5.1058158e-03 ...  2.3876666e-03\n",
      "   6.2435553e-03  1.2445854e-03]\n",
      " [ 6.0152262e-05  1.6984068e-02  4.3690484e-03 ... -1.8015655e-03\n",
      "   9.7164093e-03  2.8589979e-04]], shape=(100, 65), dtype=float32)\n"
     ]
    }
   ],
   "source": [
    "print(len(example_batch_predictions))\n",
    "print(example_batch_predictions[0])\n",
    "pred = example_batch_predictions[0]"
   ]
  },
  {
   "cell_type": "code",
   "execution_count": 29,
   "id": "8a428833-6ed5-44ae-a5c4-ef1ccf2a403e",
   "metadata": {},
   "outputs": [
    {
     "data": {
      "text/plain": [
       "\"GxGTeKq&mrcFT-jaf?qLzyfmiBF;'L3Xpwu3Rbgyv$RdgB,mwQVcwY'tX!HGF,WDH?$WTK'llUPa$?gbMeiSfhiteQqT?KPL$qiJ\""
      ]
     },
     "metadata": {},
     "output_type": "display_data"
    }
   ],
   "source": [
    "sampled_idx = tf.random.categorical(pred, num_samples=1)\n",
    "\n",
    "sampled_idx = np.reshape(sampled_idx, (1, -1))[0]\n",
    "predicted_chars = int_to_text(sampled_idx)\n",
    "\n",
    "display(predicted_chars)"
   ]
  },
  {
   "cell_type": "code",
   "execution_count": 30,
   "id": "4513c9ff-e58c-4789-aa7a-bd783b61010c",
   "metadata": {},
   "outputs": [],
   "source": [
    "def loss(labels, logits):\n",
    "    return tf.keras.losses.sparse_categorical_crossentropy(labels, logits, from_logits=True)"
   ]
  },
  {
   "cell_type": "markdown",
   "id": "51f20464-7c2f-4f0d-bf97-aef32124fb33",
   "metadata": {},
   "source": [
    "## Compiling the model\n",
    "\n",
    "Assume our problem to be a classification problem to predict possibility of next letter"
   ]
  },
  {
   "cell_type": "code",
   "execution_count": 31,
   "id": "10daac2b-061b-4b47-a16e-3d92d97444b4",
   "metadata": {},
   "outputs": [],
   "source": [
    "model.compile(optimizer=\"adam\", loss=loss)"
   ]
  },
  {
   "cell_type": "markdown",
   "id": "f25b9b0c-200e-462d-8b43-9e0c6bf9cf35",
   "metadata": {},
   "source": [
    "## Creating checkpoints\n",
    "\n",
    "Sace checkpoints as it trains so we can load model from a checkpoint and continue training it"
   ]
  },
  {
   "cell_type": "code",
   "execution_count": 32,
   "id": "32423713-ff8a-43df-a421-6905d7d50305",
   "metadata": {},
   "outputs": [],
   "source": [
    "# Directory where the checkpoints will be saved\n",
    "checkpoint_dir = './training_checkpoints'\n",
    "# Name of the checkpoint files\n",
    "checkpoint_prefix = os.path.join(checkpoint_dir, \"ckpt_{epoch}\")\n",
    "\n",
    "checkpoint_callback=tf.keras.callbacks.ModelCheckpoint(\n",
    "    filepath=checkpoint_prefix,\n",
    "    save_weights_only=True)"
   ]
  },
  {
   "cell_type": "markdown",
   "id": "82ba0f95-0fb4-4592-b4ff-057cd6a7be55",
   "metadata": {},
   "source": [
    "## Training"
   ]
  },
  {
   "cell_type": "code",
   "execution_count": 33,
   "id": "18907a09-963e-4603-b11e-5702d0afc81e",
   "metadata": {},
   "outputs": [
    {
     "name": "stdout",
     "output_type": "stream",
     "text": [
      "Epoch 1/40\n",
      "172/172 [==============================] - 6s 26ms/step - loss: 2.6363\n",
      "Epoch 2/40\n",
      "172/172 [==============================] - 5s 24ms/step - loss: 1.9491\n",
      "Epoch 3/40\n",
      "172/172 [==============================] - 5s 24ms/step - loss: 1.6900\n",
      "Epoch 4/40\n",
      "172/172 [==============================] - 5s 24ms/step - loss: 1.5419\n",
      "Epoch 5/40\n",
      "172/172 [==============================] - 5s 24ms/step - loss: 1.4509\n",
      "Epoch 6/40\n",
      "172/172 [==============================] - 5s 24ms/step - loss: 1.3880\n",
      "Epoch 7/40\n",
      "172/172 [==============================] - 5s 24ms/step - loss: 1.3399\n",
      "Epoch 8/40\n",
      "172/172 [==============================] - 5s 24ms/step - loss: 1.2994\n",
      "Epoch 9/40\n",
      "172/172 [==============================] - 5s 24ms/step - loss: 1.2624\n",
      "Epoch 10/40\n",
      "172/172 [==============================] - 5s 24ms/step - loss: 1.2268\n",
      "Epoch 11/40\n",
      "172/172 [==============================] - 5s 24ms/step - loss: 1.1914\n",
      "Epoch 12/40\n",
      "172/172 [==============================] - 5s 24ms/step - loss: 1.1559\n",
      "Epoch 13/40\n",
      "172/172 [==============================] - 5s 24ms/step - loss: 1.1188\n",
      "Epoch 14/40\n",
      "172/172 [==============================] - 5s 24ms/step - loss: 1.0808\n",
      "Epoch 15/40\n",
      "172/172 [==============================] - 5s 24ms/step - loss: 1.0411\n",
      "Epoch 16/40\n",
      "172/172 [==============================] - 5s 24ms/step - loss: 0.9999\n",
      "Epoch 17/40\n",
      "172/172 [==============================] - 5s 24ms/step - loss: 0.9590\n",
      "Epoch 18/40\n",
      "172/172 [==============================] - 5s 24ms/step - loss: 0.9176\n",
      "Epoch 19/40\n",
      "172/172 [==============================] - 5s 24ms/step - loss: 0.8785\n",
      "Epoch 20/40\n",
      "172/172 [==============================] - 5s 24ms/step - loss: 0.8381\n",
      "Epoch 21/40\n",
      "172/172 [==============================] - 5s 24ms/step - loss: 0.8007\n",
      "Epoch 22/40\n",
      "172/172 [==============================] - 5s 24ms/step - loss: 0.7660\n",
      "Epoch 23/40\n",
      "172/172 [==============================] - 5s 24ms/step - loss: 0.7320\n",
      "Epoch 24/40\n",
      "172/172 [==============================] - 5s 24ms/step - loss: 0.7025\n",
      "Epoch 25/40\n",
      "172/172 [==============================] - 5s 24ms/step - loss: 0.6739\n",
      "Epoch 26/40\n",
      "172/172 [==============================] - 5s 24ms/step - loss: 0.6487\n",
      "Epoch 27/40\n",
      "172/172 [==============================] - 5s 24ms/step - loss: 0.6252\n",
      "Epoch 28/40\n",
      "172/172 [==============================] - 5s 24ms/step - loss: 0.6040\n",
      "Epoch 29/40\n",
      "172/172 [==============================] - 5s 24ms/step - loss: 0.5857\n",
      "Epoch 30/40\n",
      "172/172 [==============================] - 5s 24ms/step - loss: 0.5675\n",
      "Epoch 31/40\n",
      "172/172 [==============================] - 5s 24ms/step - loss: 0.5534\n",
      "Epoch 32/40\n",
      "172/172 [==============================] - 5s 24ms/step - loss: 0.5401\n",
      "Epoch 33/40\n",
      "172/172 [==============================] - 5s 24ms/step - loss: 0.5261\n",
      "Epoch 34/40\n",
      "172/172 [==============================] - 5s 24ms/step - loss: 0.5164\n",
      "Epoch 35/40\n",
      "172/172 [==============================] - 5s 24ms/step - loss: 0.5044\n",
      "Epoch 36/40\n",
      "172/172 [==============================] - 5s 24ms/step - loss: 0.4941\n",
      "Epoch 37/40\n",
      "172/172 [==============================] - 5s 24ms/step - loss: 0.4845\n",
      "Epoch 38/40\n",
      "172/172 [==============================] - 5s 24ms/step - loss: 0.4790\n",
      "Epoch 39/40\n",
      "172/172 [==============================] - 5s 24ms/step - loss: 0.4724\n",
      "Epoch 40/40\n",
      "172/172 [==============================] - 5s 24ms/step - loss: 0.4646\n"
     ]
    }
   ],
   "source": [
    "history = model.fit(data, epochs=40, callbacks=[checkpoint_callback])"
   ]
  },
  {
   "cell_type": "markdown",
   "id": "ead765ad-8a3a-4a1b-840f-e23cba950d6e",
   "metadata": {},
   "source": [
    "## Loading the model"
   ]
  },
  {
   "cell_type": "code",
   "execution_count": 35,
   "id": "bddb1187-26f1-4eef-bb27-890be88b8f56",
   "metadata": {},
   "outputs": [],
   "source": [
    "model = build_model(VOCAB_SIZE, EMBEDDING_DIM, RNN_UNITS, batch_size=1)"
   ]
  },
  {
   "cell_type": "code",
   "execution_count": 36,
   "id": "119e327b-a58d-469a-85fb-c39aa637160f",
   "metadata": {},
   "outputs": [],
   "source": [
    "model.load_weights(tf.train.latest_checkpoint(checkpoint_dir))\n",
    "model.build(tf.TensorShape([1, None]))"
   ]
  },
  {
   "cell_type": "markdown",
   "id": "83fb239c-bb72-4661-a6b0-e6fa21bacf9d",
   "metadata": {},
   "source": [
    "## Generating text "
   ]
  },
  {
   "cell_type": "code",
   "execution_count": 39,
   "id": "1d430d7b-27f3-4fa7-9d21-88264543124d",
   "metadata": {},
   "outputs": [],
   "source": [
    "def generate_text(model, start_string):\n",
    "    # Evaluation step (generating text using the learned model)\n",
    "    # Number of characters to generate\n",
    "    num_generate = 800\n",
    "\n",
    "    # Converting our start string to numbers (vectorizing)\n",
    "    input_eval = [char2idx[s] for s in start_string]\n",
    "    input_eval = tf.expand_dims(input_eval, 0)\n",
    "\n",
    "    # Empty string to store our results\n",
    "    text_generated = []\n",
    "\n",
    "    # Low temperatures results in more predictable text.\n",
    "    # Higher temperatures results in more surprising text.\n",
    "    # Experiment to find the best setting.\n",
    "    temperature = 1.0\n",
    "\n",
    "    # Here batch size == 1\n",
    "    model.reset_states()\n",
    "    for i in range(num_generate):\n",
    "        predictions = model(input_eval)\n",
    "        # remove the batch dimension\n",
    "        predictions = tf.squeeze(predictions, 0)\n",
    "        # using a categorical distribution to predict the character returned by the model\n",
    "        predictions = predictions / temperature\n",
    "        predicted_id = tf.random.categorical(predictions, num_samples=1)[-1,0].numpy()\n",
    "        # We pass the predicted character as the next input to the model\n",
    "        # along with the previous hidden state\n",
    "        input_eval = tf.expand_dims([predicted_id], 0)\n",
    "        text_generated.append(idx2char[predicted_id])\n",
    "\n",
    "    return (start_string + ''.join(text_generated))"
   ]
  },
  {
   "cell_type": "code",
   "execution_count": 42,
   "id": "09569de9-4d12-4411-9493-a74acb45cb95",
   "metadata": {},
   "outputs": [
    {
     "name": "stdin",
     "output_type": "stream",
     "text": [
      "Type a starting string:  Is this the end?\n"
     ]
    },
    {
     "name": "stdout",
     "output_type": "stream",
     "text": [
      "Is this the end?\n",
      "\n",
      "BAPTISTA:\n",
      "Now, by the jealous play may she never winnit?\n",
      "\n",
      "BENVOLIO:\n",
      "Go, broad with my true knees a tongue to purge\n",
      "That she shall have the more of or love what's fire?\n",
      "\n",
      "PAULINA:\n",
      "I pray now, sit and speak again.\n",
      "\n",
      "ROMEO:\n",
      "I stay but grieve,\n",
      "As if mine ears against the hidam I might venture\n",
      "A shrew of the foresain of the\n",
      "heir a hopeding patient cheeks, or the war\n",
      "she-picked darkeness, and presemption,\n",
      "Which God is more than this,--they do most kneel, and durst not on\n",
      "the note, he had for revenges with\n",
      "Your enemies and employ at first,\n",
      "Eiends the woeful good company, as we last\n",
      "A fortine egal on: and all the power incress'd\n",
      "As when he flower, not light-fected for a Valician:\n",
      "An old ambiricious mouse, because thereon\n",
      "Have the patience grief I am for you.\n",
      "\n",
      "HASTINGS:\n",
      "O, what's the matter? You, m\n"
     ]
    }
   ],
   "source": [
    "inp = input(\"Type a starting string: \")\n",
    "print(generate_text(model, inp))"
   ]
  },
  {
   "cell_type": "markdown",
   "id": "0c11c217-8ccc-4197-98ed-d541d4bb1416",
   "metadata": {},
   "source": [
    "## Sources\n",
    "\n",
    "1. Chollet François. Deep Learning with Python. Manning Publications Co., 2018.\n",
    "2. “Text Classification with an RNN &nbsp;: &nbsp; TensorFlow Core.” TensorFlow, www.tensorflow.org/tutorials/text/text_classification_rnn.\n",
    "3. “Text Generation with an RNN &nbsp;: &nbsp; TensorFlow Core.” TensorFlow, www.tensorflow.org/tutorials/text/text_generation.\n",
    "4. “Understanding LSTM Networks.” Understanding LSTM Networks -- Colah's Blog, https://colah.github.io/posts/2015-08-Understanding-LSTMs/."
   ]
  },
  {
   "cell_type": "code",
   "execution_count": null,
   "id": "0c8a344f-8602-4a59-a395-fa18ab62a4c7",
   "metadata": {},
   "outputs": [],
   "source": []
  }
 ],
 "metadata": {
  "kernelspec": {
   "display_name": "ML",
   "language": "python",
   "name": "ml"
  },
  "language_info": {
   "codemirror_mode": {
    "name": "ipython",
    "version": 3
   },
   "file_extension": ".py",
   "mimetype": "text/x-python",
   "name": "python",
   "nbconvert_exporter": "python",
   "pygments_lexer": "ipython3",
   "version": "3.9.15"
  }
 },
 "nbformat": 4,
 "nbformat_minor": 5
}
