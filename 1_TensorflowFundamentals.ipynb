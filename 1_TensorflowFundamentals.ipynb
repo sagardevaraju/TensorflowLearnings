{
 "cells": [
  {
   "cell_type": "markdown",
   "id": "668938b0-7907-4313-985f-c3ba764ae99c",
   "metadata": {},
   "source": [
    "# Tensorflow Fundamentals"
   ]
  },
  {
   "cell_type": "markdown",
   "id": "e81853d2-7626-406d-83d4-9e72fe4adffc",
   "metadata": {},
   "source": [
    "Tensorflow has two main components - Graphs and Sessions <br>\n",
    "Variable gets added to Graph. Graph defines/states computation but does not perform them <br>\n",
    "Different computations can be equated to each other hence linked and called a Graph"
   ]
  },
  {
   "cell_type": "markdown",
   "id": "db50957c-f699-4b5d-b287-a2774b4a36ef",
   "metadata": {},
   "source": [
    "Session is a way to execute a part or all of the graph. It allocates memory and resources required for execution of operations defined <br>\n",
    "Some times, sessions would have to be created to execute parts of Graphs defined"
   ]
  },
  {
   "cell_type": "code",
   "execution_count": 1,
   "id": "d32d596d-bfd0-4025-8f4a-117cdc070e5e",
   "metadata": {},
   "outputs": [],
   "source": [
    "import tensorflow as tf"
   ]
  },
  {
   "cell_type": "code",
   "execution_count": 2,
   "id": "f9cf29ac-5bac-4b7a-94ba-d7d8bdb7ff57",
   "metadata": {},
   "outputs": [
    {
     "name": "stdout",
     "output_type": "stream",
     "text": [
      "<module 'tensorflow._api.v2.version' from '/home/sdevaraju/miniconda3/envs/ML_GPU/lib/python3.9/site-packages/tensorflow/_api/v2/version/__init__.py'>\n"
     ]
    }
   ],
   "source": [
    "print(tf.version)"
   ]
  },
  {
   "cell_type": "markdown",
   "id": "a2f7958e-0365-4c35-814b-a20143900190",
   "metadata": {},
   "source": [
    "## Tensors"
   ]
  },
  {
   "cell_type": "markdown",
   "id": "5556c54e-d593-4871-bcd2-dd93c5e4aaf4",
   "metadata": {},
   "source": [
    "Vector generalized to higher dimensions. Each tensor has a data type and shape. <br>\n",
    "Data Type e.g float32, int32 <br>\n",
    "Shape: Form of data <br>\n",
    "Each tensor represents a partially defined computation that will produce a value"
   ]
  },
  {
   "cell_type": "markdown",
   "id": "6a6c4c0e-17d2-46c2-b8ca-d46153020dd0",
   "metadata": {},
   "source": [
    "## Creating a Tensor"
   ]
  },
  {
   "cell_type": "code",
   "execution_count": 3,
   "id": "435f06b3-5ff4-48ba-9483-93e066190490",
   "metadata": {},
   "outputs": [],
   "source": [
    "str_var = tf.Variable(\"this is a test string\", tf.string)\n",
    "int_var = tf.Variable(42, tf.int16)\n",
    "flot_var = tf.Variable(3.14, tf.float64)"
   ]
  },
  {
   "cell_type": "markdown",
   "id": "ea8de8f8-f4e6-407a-903a-5e01bf35fb35",
   "metadata": {},
   "source": [
    "## Rank/Degree of Tensors\n",
    "It defines the number of dimensions involved in the tensor. <br>\n",
    "Deepest level of a nested list"
   ]
  },
  {
   "cell_type": "code",
   "execution_count": 4,
   "id": "10567a81-b7c9-4999-abc7-f11d18ef484f",
   "metadata": {},
   "outputs": [],
   "source": [
    "rank1_tensor = tf.Variable([\"Test\", \"NewStr\"], tf.string)\n",
    "rank2_tensor = tf.Variable([[\"test\", \"str1\"], [\"test2\", \"str2\"]], tf.string)"
   ]
  },
  {
   "cell_type": "code",
   "execution_count": 5,
   "id": "700f0dd6-7a27-4faa-b07e-6c280f32fd0c",
   "metadata": {},
   "outputs": [
    {
     "data": {
      "text/plain": [
       "<tf.Tensor: shape=(), dtype=int32, numpy=1>"
      ]
     },
     "metadata": {},
     "output_type": "display_data"
    },
    {
     "data": {
      "text/plain": [
       "<tf.Tensor: shape=(), dtype=int32, numpy=2>"
      ]
     },
     "metadata": {},
     "output_type": "display_data"
    }
   ],
   "source": [
    "display(tf.rank(rank1_tensor))\n",
    "display(tf.rank(rank2_tensor))"
   ]
  },
  {
   "cell_type": "markdown",
   "id": "ccf8d015-c3fa-4572-85f7-83f9baf953ac",
   "metadata": {},
   "source": [
    "## Shape of Tensor\n",
    "Defines the number of elements in each dimension"
   ]
  },
  {
   "cell_type": "code",
   "execution_count": 6,
   "id": "2e7a7bf7-6239-474d-806f-16788af75a56",
   "metadata": {},
   "outputs": [
    {
     "data": {
      "text/plain": [
       "TensorShape([2])"
      ]
     },
     "metadata": {},
     "output_type": "display_data"
    },
    {
     "data": {
      "text/plain": [
       "TensorShape([2, 2])"
      ]
     },
     "metadata": {},
     "output_type": "display_data"
    }
   ],
   "source": [
    "display(rank1_tensor.shape)\n",
    "display(rank2_tensor.shape)"
   ]
  },
  {
   "cell_type": "markdown",
   "id": "c71bf742-6eba-4192-8e5b-6739f95170c9",
   "metadata": {},
   "source": [
    "## Changing Shape"
   ]
  },
  {
   "cell_type": "code",
   "execution_count": 17,
   "id": "762433b9-cc20-44b3-96bc-4ac0ec1a3723",
   "metadata": {},
   "outputs": [
    {
     "data": {
      "text/plain": [
       "<tf.Tensor: shape=(1, 4, 3), dtype=float32, numpy=\n",
       "array([[[1., 1., 1.],\n",
       "        [1., 1., 1.],\n",
       "        [1., 1., 1.],\n",
       "        [1., 1., 1.]]], dtype=float32)>"
      ]
     },
     "metadata": {},
     "output_type": "display_data"
    },
    {
     "data": {
      "text/plain": [
       "<tf.Tensor: shape=(1, 3, 4), dtype=float32, numpy=\n",
       "array([[[1., 1., 1., 1.],\n",
       "        [1., 1., 1., 1.],\n",
       "        [1., 1., 1., 1.]]], dtype=float32)>"
      ]
     },
     "metadata": {},
     "output_type": "display_data"
    },
    {
     "data": {
      "text/plain": [
       "<tf.Tensor: shape=(2, 6), dtype=float32, numpy=\n",
       "array([[1., 1., 1., 1., 1., 1.],\n",
       "       [1., 1., 1., 1., 1., 1.]], dtype=float32)>"
      ]
     },
     "metadata": {},
     "output_type": "display_data"
    }
   ],
   "source": [
    "tensor1 = tf.ones([1,4,3])  # Number of sub arrays, rows, columns\n",
    "display(tensor1)\n",
    "tensor2 = tf.reshape(tensor1, [1, 3, 4])\n",
    "display(tensor2)\n",
    "tensor3 = tf.reshape(tensor1, [2, -1]) # -1 tells the tensor to infer size of dimension in that place [2, 6] here\n",
    "display(tensor3)"
   ]
  },
  {
   "cell_type": "markdown",
   "id": "f169c486-02d2-4151-8e2c-9dcceb9a6367",
   "metadata": {},
   "source": [
    "## Types of Tensors\n",
    "- Variable\n",
    "- Constant\n",
    "- Placeholder\n",
    "- SparseTensor\n",
    "\n",
    "Aside from ```Variable```, all of above are immutable."
   ]
  },
  {
   "cell_type": "markdown",
   "id": "b24a3ac4-922e-4d62-945e-bbc72948be59",
   "metadata": {},
   "source": [
    "## Evaluating Tensors"
   ]
  },
  {
   "cell_type": "code",
   "execution_count": null,
   "id": "1d714204-1a93-4db8-b148-280a5fb5618b",
   "metadata": {},
   "outputs": [],
   "source": [
    "with tf.Session() as sess: #Creates a session using default graph\n",
    "    tensor.eval()"
   ]
  }
 ],
 "metadata": {
  "kernelspec": {
   "display_name": "ML",
   "language": "python",
   "name": "ml"
  },
  "language_info": {
   "codemirror_mode": {
    "name": "ipython",
    "version": 3
   },
   "file_extension": ".py",
   "mimetype": "text/x-python",
   "name": "python",
   "nbconvert_exporter": "python",
   "pygments_lexer": "ipython3",
   "version": "3.9.15"
  }
 },
 "nbformat": 4,
 "nbformat_minor": 5
}
