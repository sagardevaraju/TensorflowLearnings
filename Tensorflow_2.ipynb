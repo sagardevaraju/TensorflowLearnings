{
 "cells": [
  {
   "cell_type": "markdown",
   "id": "a0999753-af65-41bb-b184-c6f309ccb617",
   "metadata": {},
   "source": [
    "# Tensorflow Core Algorithms\n",
    "- Linear Regression\n",
    "- Classification\n",
    "- Clustering\n",
    "- Hidden Markov Models"
   ]
  },
  {
   "cell_type": "code",
   "execution_count": 11,
   "id": "9285e71e-0f51-4bcd-8529-1110d02f7cb4",
   "metadata": {},
   "outputs": [],
   "source": [
    "import numpy as np\n",
    "import pandas as pd\n",
    "import matplotlib.pyplot as plt\n",
    "from IPython.display import clear_output\n",
    "\n",
    "import tensorflow.feature_column as fc\n",
    "import tensorflow as tf"
   ]
  },
  {
   "cell_type": "markdown",
   "id": "ff7be1a3-1889-40a3-932b-aac7bb9294e7",
   "metadata": {},
   "source": [
    "## Linear Regression\n",
    "Linear corresponance between datapoints"
   ]
  },
  {
   "cell_type": "code",
   "execution_count": 15,
   "id": "271c30ab-4c47-477a-b166-2d39706025d0",
   "metadata": {},
   "outputs": [],
   "source": [
    "# Load datasets\n",
    "\n",
    "X_train = pd.read_csv(\"https://storage.googleapis.com/tf-datasets/titanic/train.csv\")  # train data\n",
    "X_test = pd.read_csv(\"https://storage.googleapis.com/tf-datasets/titanic/eval.csv\")  # test data"
   ]
  },
  {
   "cell_type": "code",
   "execution_count": 16,
   "id": "ee202861-6454-4227-b781-18aaf17ebb3e",
   "metadata": {},
   "outputs": [
    {
     "data": {
      "text/html": [
       "<div>\n",
       "<style scoped>\n",
       "    .dataframe tbody tr th:only-of-type {\n",
       "        vertical-align: middle;\n",
       "    }\n",
       "\n",
       "    .dataframe tbody tr th {\n",
       "        vertical-align: top;\n",
       "    }\n",
       "\n",
       "    .dataframe thead th {\n",
       "        text-align: right;\n",
       "    }\n",
       "</style>\n",
       "<table border=\"1\" class=\"dataframe\">\n",
       "  <thead>\n",
       "    <tr style=\"text-align: right;\">\n",
       "      <th></th>\n",
       "      <th>survived</th>\n",
       "      <th>sex</th>\n",
       "      <th>age</th>\n",
       "      <th>n_siblings_spouses</th>\n",
       "      <th>parch</th>\n",
       "      <th>fare</th>\n",
       "      <th>class</th>\n",
       "      <th>deck</th>\n",
       "      <th>embark_town</th>\n",
       "      <th>alone</th>\n",
       "    </tr>\n",
       "  </thead>\n",
       "  <tbody>\n",
       "    <tr>\n",
       "      <th>0</th>\n",
       "      <td>0</td>\n",
       "      <td>male</td>\n",
       "      <td>22.0</td>\n",
       "      <td>1</td>\n",
       "      <td>0</td>\n",
       "      <td>7.2500</td>\n",
       "      <td>Third</td>\n",
       "      <td>unknown</td>\n",
       "      <td>Southampton</td>\n",
       "      <td>n</td>\n",
       "    </tr>\n",
       "    <tr>\n",
       "      <th>1</th>\n",
       "      <td>1</td>\n",
       "      <td>female</td>\n",
       "      <td>38.0</td>\n",
       "      <td>1</td>\n",
       "      <td>0</td>\n",
       "      <td>71.2833</td>\n",
       "      <td>First</td>\n",
       "      <td>C</td>\n",
       "      <td>Cherbourg</td>\n",
       "      <td>n</td>\n",
       "    </tr>\n",
       "    <tr>\n",
       "      <th>2</th>\n",
       "      <td>1</td>\n",
       "      <td>female</td>\n",
       "      <td>26.0</td>\n",
       "      <td>0</td>\n",
       "      <td>0</td>\n",
       "      <td>7.9250</td>\n",
       "      <td>Third</td>\n",
       "      <td>unknown</td>\n",
       "      <td>Southampton</td>\n",
       "      <td>y</td>\n",
       "    </tr>\n",
       "    <tr>\n",
       "      <th>3</th>\n",
       "      <td>1</td>\n",
       "      <td>female</td>\n",
       "      <td>35.0</td>\n",
       "      <td>1</td>\n",
       "      <td>0</td>\n",
       "      <td>53.1000</td>\n",
       "      <td>First</td>\n",
       "      <td>C</td>\n",
       "      <td>Southampton</td>\n",
       "      <td>n</td>\n",
       "    </tr>\n",
       "    <tr>\n",
       "      <th>4</th>\n",
       "      <td>0</td>\n",
       "      <td>male</td>\n",
       "      <td>28.0</td>\n",
       "      <td>0</td>\n",
       "      <td>0</td>\n",
       "      <td>8.4583</td>\n",
       "      <td>Third</td>\n",
       "      <td>unknown</td>\n",
       "      <td>Queenstown</td>\n",
       "      <td>y</td>\n",
       "    </tr>\n",
       "  </tbody>\n",
       "</table>\n",
       "</div>"
      ],
      "text/plain": [
       "   survived     sex   age  n_siblings_spouses  parch     fare  class     deck  embark_town alone\n",
       "0         0    male  22.0                   1      0   7.2500  Third  unknown  Southampton     n\n",
       "1         1  female  38.0                   1      0  71.2833  First        C    Cherbourg     n\n",
       "2         1  female  26.0                   0      0   7.9250  Third  unknown  Southampton     y\n",
       "3         1  female  35.0                   1      0  53.1000  First        C  Southampton     n\n",
       "4         0    male  28.0                   0      0   8.4583  Third  unknown   Queenstown     y"
      ]
     },
     "execution_count": 16,
     "metadata": {},
     "output_type": "execute_result"
    }
   ],
   "source": [
    "X_train.head()"
   ]
  },
  {
   "cell_type": "code",
   "execution_count": 17,
   "id": "387fff91-7908-423d-9ce3-d09385c7867a",
   "metadata": {},
   "outputs": [
    {
     "data": {
      "text/html": [
       "<div>\n",
       "<style scoped>\n",
       "    .dataframe tbody tr th:only-of-type {\n",
       "        vertical-align: middle;\n",
       "    }\n",
       "\n",
       "    .dataframe tbody tr th {\n",
       "        vertical-align: top;\n",
       "    }\n",
       "\n",
       "    .dataframe thead th {\n",
       "        text-align: right;\n",
       "    }\n",
       "</style>\n",
       "<table border=\"1\" class=\"dataframe\">\n",
       "  <thead>\n",
       "    <tr style=\"text-align: right;\">\n",
       "      <th></th>\n",
       "      <th>survived</th>\n",
       "      <th>sex</th>\n",
       "      <th>age</th>\n",
       "      <th>n_siblings_spouses</th>\n",
       "      <th>parch</th>\n",
       "      <th>fare</th>\n",
       "      <th>class</th>\n",
       "      <th>deck</th>\n",
       "      <th>embark_town</th>\n",
       "      <th>alone</th>\n",
       "    </tr>\n",
       "  </thead>\n",
       "  <tbody>\n",
       "    <tr>\n",
       "      <th>0</th>\n",
       "      <td>0</td>\n",
       "      <td>male</td>\n",
       "      <td>35.0</td>\n",
       "      <td>0</td>\n",
       "      <td>0</td>\n",
       "      <td>8.0500</td>\n",
       "      <td>Third</td>\n",
       "      <td>unknown</td>\n",
       "      <td>Southampton</td>\n",
       "      <td>y</td>\n",
       "    </tr>\n",
       "    <tr>\n",
       "      <th>1</th>\n",
       "      <td>0</td>\n",
       "      <td>male</td>\n",
       "      <td>54.0</td>\n",
       "      <td>0</td>\n",
       "      <td>0</td>\n",
       "      <td>51.8625</td>\n",
       "      <td>First</td>\n",
       "      <td>E</td>\n",
       "      <td>Southampton</td>\n",
       "      <td>y</td>\n",
       "    </tr>\n",
       "    <tr>\n",
       "      <th>2</th>\n",
       "      <td>1</td>\n",
       "      <td>female</td>\n",
       "      <td>58.0</td>\n",
       "      <td>0</td>\n",
       "      <td>0</td>\n",
       "      <td>26.5500</td>\n",
       "      <td>First</td>\n",
       "      <td>C</td>\n",
       "      <td>Southampton</td>\n",
       "      <td>y</td>\n",
       "    </tr>\n",
       "    <tr>\n",
       "      <th>3</th>\n",
       "      <td>1</td>\n",
       "      <td>female</td>\n",
       "      <td>55.0</td>\n",
       "      <td>0</td>\n",
       "      <td>0</td>\n",
       "      <td>16.0000</td>\n",
       "      <td>Second</td>\n",
       "      <td>unknown</td>\n",
       "      <td>Southampton</td>\n",
       "      <td>y</td>\n",
       "    </tr>\n",
       "    <tr>\n",
       "      <th>4</th>\n",
       "      <td>1</td>\n",
       "      <td>male</td>\n",
       "      <td>34.0</td>\n",
       "      <td>0</td>\n",
       "      <td>0</td>\n",
       "      <td>13.0000</td>\n",
       "      <td>Second</td>\n",
       "      <td>D</td>\n",
       "      <td>Southampton</td>\n",
       "      <td>y</td>\n",
       "    </tr>\n",
       "  </tbody>\n",
       "</table>\n",
       "</div>"
      ],
      "text/plain": [
       "   survived     sex   age  n_siblings_spouses  parch     fare   class     deck  embark_town alone\n",
       "0         0    male  35.0                   0      0   8.0500   Third  unknown  Southampton     y\n",
       "1         0    male  54.0                   0      0  51.8625   First        E  Southampton     y\n",
       "2         1  female  58.0                   0      0  26.5500   First        C  Southampton     y\n",
       "3         1  female  55.0                   0      0  16.0000  Second  unknown  Southampton     y\n",
       "4         1    male  34.0                   0      0  13.0000  Second        D  Southampton     y"
      ]
     },
     "execution_count": 17,
     "metadata": {},
     "output_type": "execute_result"
    }
   ],
   "source": [
    "X_test.head()"
   ]
  },
  {
   "cell_type": "code",
   "execution_count": 18,
   "id": "95e62732-6c0e-43a1-baf3-20983917dfc1",
   "metadata": {},
   "outputs": [],
   "source": [
    "y_train = X_train.pop(\"survived\")\n",
    "y_test = X_test.pop(\"survived\")"
   ]
  },
  {
   "cell_type": "code",
   "execution_count": 19,
   "id": "7b47d0b7-38e1-4c6e-b887-7ebcd49e6133",
   "metadata": {},
   "outputs": [
    {
     "data": {
      "text/html": [
       "<div>\n",
       "<style scoped>\n",
       "    .dataframe tbody tr th:only-of-type {\n",
       "        vertical-align: middle;\n",
       "    }\n",
       "\n",
       "    .dataframe tbody tr th {\n",
       "        vertical-align: top;\n",
       "    }\n",
       "\n",
       "    .dataframe thead th {\n",
       "        text-align: right;\n",
       "    }\n",
       "</style>\n",
       "<table border=\"1\" class=\"dataframe\">\n",
       "  <thead>\n",
       "    <tr style=\"text-align: right;\">\n",
       "      <th></th>\n",
       "      <th>age</th>\n",
       "      <th>n_siblings_spouses</th>\n",
       "      <th>parch</th>\n",
       "      <th>fare</th>\n",
       "    </tr>\n",
       "  </thead>\n",
       "  <tbody>\n",
       "    <tr>\n",
       "      <th>count</th>\n",
       "      <td>627.000000</td>\n",
       "      <td>627.000000</td>\n",
       "      <td>627.000000</td>\n",
       "      <td>627.000000</td>\n",
       "    </tr>\n",
       "    <tr>\n",
       "      <th>mean</th>\n",
       "      <td>29.631308</td>\n",
       "      <td>0.545455</td>\n",
       "      <td>0.379585</td>\n",
       "      <td>34.385399</td>\n",
       "    </tr>\n",
       "    <tr>\n",
       "      <th>std</th>\n",
       "      <td>12.511818</td>\n",
       "      <td>1.151090</td>\n",
       "      <td>0.792999</td>\n",
       "      <td>54.597730</td>\n",
       "    </tr>\n",
       "    <tr>\n",
       "      <th>min</th>\n",
       "      <td>0.750000</td>\n",
       "      <td>0.000000</td>\n",
       "      <td>0.000000</td>\n",
       "      <td>0.000000</td>\n",
       "    </tr>\n",
       "    <tr>\n",
       "      <th>25%</th>\n",
       "      <td>23.000000</td>\n",
       "      <td>0.000000</td>\n",
       "      <td>0.000000</td>\n",
       "      <td>7.895800</td>\n",
       "    </tr>\n",
       "    <tr>\n",
       "      <th>50%</th>\n",
       "      <td>28.000000</td>\n",
       "      <td>0.000000</td>\n",
       "      <td>0.000000</td>\n",
       "      <td>15.045800</td>\n",
       "    </tr>\n",
       "    <tr>\n",
       "      <th>75%</th>\n",
       "      <td>35.000000</td>\n",
       "      <td>1.000000</td>\n",
       "      <td>0.000000</td>\n",
       "      <td>31.387500</td>\n",
       "    </tr>\n",
       "    <tr>\n",
       "      <th>max</th>\n",
       "      <td>80.000000</td>\n",
       "      <td>8.000000</td>\n",
       "      <td>5.000000</td>\n",
       "      <td>512.329200</td>\n",
       "    </tr>\n",
       "  </tbody>\n",
       "</table>\n",
       "</div>"
      ],
      "text/plain": [
       "              age  n_siblings_spouses       parch        fare\n",
       "count  627.000000          627.000000  627.000000  627.000000\n",
       "mean    29.631308            0.545455    0.379585   34.385399\n",
       "std     12.511818            1.151090    0.792999   54.597730\n",
       "min      0.750000            0.000000    0.000000    0.000000\n",
       "25%     23.000000            0.000000    0.000000    7.895800\n",
       "50%     28.000000            0.000000    0.000000   15.045800\n",
       "75%     35.000000            1.000000    0.000000   31.387500\n",
       "max     80.000000            8.000000    5.000000  512.329200"
      ]
     },
     "execution_count": 19,
     "metadata": {},
     "output_type": "execute_result"
    }
   ],
   "source": [
    "X_train.describe()"
   ]
  },
  {
   "cell_type": "code",
   "execution_count": 25,
   "id": "382988b2-f7a9-4fe2-8838-de8d9f44af8f",
   "metadata": {},
   "outputs": [
    {
     "data": {
      "text/plain": [
       "<AxesSubplot:>"
      ]
     },
     "execution_count": 25,
     "metadata": {},
     "output_type": "execute_result"
    },
    {
     "data": {
      "image/png": "[encoded data removed]",
      "text/plain": [
       "<Figure size 432x288 with 1 Axes>"
      ]
     },
     "metadata": {
      "needs_background": "light"
     },
     "output_type": "display_data"
    }
   ],
   "source": [
    "X_train.age.hist(bins=20)"
   ]
  },
  {
   "cell_type": "code",
   "execution_count": 32,
   "id": "10123411-cf2c-427e-a0d6-6edc4dd57648",
   "metadata": {},
   "outputs": [
    {
     "data": {
      "text/plain": [
       "<AxesSubplot:>"
      ]
     },
     "execution_count": 32,
     "metadata": {},
     "output_type": "execute_result"
    },
    {
     "data": {
      "image/png": "[encoded data removed]",
      "text/plain": [
       "<Figure size 432x288 with 1 Axes>"
      ]
     },
     "metadata": {
      "needs_background": "light"
     },
     "output_type": "display_data"
    }
   ],
   "source": [
    "X_train[\"sex\"].value_counts().plot(kind=\"barh\")"
   ]
  },
  {
   "cell_type": "code",
   "execution_count": 33,
   "id": "66b1941d-8c3a-4aef-8dff-69a29524058b",
   "metadata": {},
   "outputs": [
    {
     "data": {
      "text/plain": [
       "<AxesSubplot:>"
      ]
     },
     "execution_count": 33,
     "metadata": {},
     "output_type": "execute_result"
    },
    {
     "data": {
      "image/png": "[encoded data removed]",
      "text/plain": [
       "<Figure size 432x288 with 1 Axes>"
      ]
     },
     "metadata": {
      "needs_background": "light"
     },
     "output_type": "display_data"
    }
   ],
   "source": [
    "X_train[\"class\"].value_counts().plot(kind=\"barh\")"
   ]
  },
  {
   "cell_type": "code",
   "execution_count": 39,
   "id": "95b77a47-88b0-4625-bde0-f4755bab2185",
   "metadata": {},
   "outputs": [
    {
     "data": {
      "text/plain": [
       "Text(0.5, 0, ' % survival chance')"
      ]
     },
     "execution_count": 39,
     "metadata": {},
     "output_type": "execute_result"
    },
    {
     "data": {
      "image/png": "[encoded data removed]",
      "text/plain": [
       "<Figure size 432x288 with 1 Axes>"
      ]
     },
     "metadata": {
      "needs_background": "light"
     },
     "output_type": "display_data"
    }
   ],
   "source": [
    "pd.concat([X_train, y_train], axis=1).groupby('sex')[\"survived\"].mean()\\\n",
    "    .plot(kind=\"barh\").set_xlabel(\" % survival chance\")"
   ]
  },
  {
   "cell_type": "code",
   "execution_count": 40,
   "id": "e048720d-2e46-4867-bc34-7bb8359b4ab0",
   "metadata": {},
   "outputs": [
    {
     "data": {
      "text/html": [
       "<div>\n",
       "<style scoped>\n",
       "    .dataframe tbody tr th:only-of-type {\n",
       "        vertical-align: middle;\n",
       "    }\n",
       "\n",
       "    .dataframe tbody tr th {\n",
       "        vertical-align: top;\n",
       "    }\n",
       "\n",
       "    .dataframe thead th {\n",
       "        text-align: right;\n",
       "    }\n",
       "</style>\n",
       "<table border=\"1\" class=\"dataframe\">\n",
       "  <thead>\n",
       "    <tr style=\"text-align: right;\">\n",
       "      <th></th>\n",
       "      <th>sex</th>\n",
       "      <th>age</th>\n",
       "      <th>n_siblings_spouses</th>\n",
       "      <th>parch</th>\n",
       "      <th>fare</th>\n",
       "      <th>class</th>\n",
       "      <th>deck</th>\n",
       "      <th>embark_town</th>\n",
       "      <th>alone</th>\n",
       "    </tr>\n",
       "  </thead>\n",
       "  <tbody>\n",
       "    <tr>\n",
       "      <th>0</th>\n",
       "      <td>male</td>\n",
       "      <td>22.0</td>\n",
       "      <td>1</td>\n",
       "      <td>0</td>\n",
       "      <td>7.2500</td>\n",
       "      <td>Third</td>\n",
       "      <td>unknown</td>\n",
       "      <td>Southampton</td>\n",
       "      <td>n</td>\n",
       "    </tr>\n",
       "    <tr>\n",
       "      <th>1</th>\n",
       "      <td>female</td>\n",
       "      <td>38.0</td>\n",
       "      <td>1</td>\n",
       "      <td>0</td>\n",
       "      <td>71.2833</td>\n",
       "      <td>First</td>\n",
       "      <td>C</td>\n",
       "      <td>Cherbourg</td>\n",
       "      <td>n</td>\n",
       "    </tr>\n",
       "    <tr>\n",
       "      <th>2</th>\n",
       "      <td>female</td>\n",
       "      <td>26.0</td>\n",
       "      <td>0</td>\n",
       "      <td>0</td>\n",
       "      <td>7.9250</td>\n",
       "      <td>Third</td>\n",
       "      <td>unknown</td>\n",
       "      <td>Southampton</td>\n",
       "      <td>y</td>\n",
       "    </tr>\n",
       "    <tr>\n",
       "      <th>3</th>\n",
       "      <td>female</td>\n",
       "      <td>35.0</td>\n",
       "      <td>1</td>\n",
       "      <td>0</td>\n",
       "      <td>53.1000</td>\n",
       "      <td>First</td>\n",
       "      <td>C</td>\n",
       "      <td>Southampton</td>\n",
       "      <td>n</td>\n",
       "    </tr>\n",
       "    <tr>\n",
       "      <th>4</th>\n",
       "      <td>male</td>\n",
       "      <td>28.0</td>\n",
       "      <td>0</td>\n",
       "      <td>0</td>\n",
       "      <td>8.4583</td>\n",
       "      <td>Third</td>\n",
       "      <td>unknown</td>\n",
       "      <td>Queenstown</td>\n",
       "      <td>y</td>\n",
       "    </tr>\n",
       "  </tbody>\n",
       "</table>\n",
       "</div>"
      ],
      "text/plain": [
       "      sex   age  n_siblings_spouses  parch     fare  class     deck  embark_town alone\n",
       "0    male  22.0                   1      0   7.2500  Third  unknown  Southampton     n\n",
       "1  female  38.0                   1      0  71.2833  First        C    Cherbourg     n\n",
       "2  female  26.0                   0      0   7.9250  Third  unknown  Southampton     y\n",
       "3  female  35.0                   1      0  53.1000  First        C  Southampton     n\n",
       "4    male  28.0                   0      0   8.4583  Third  unknown   Queenstown     y"
      ]
     },
     "execution_count": 40,
     "metadata": {},
     "output_type": "execute_result"
    }
   ],
   "source": [
    "X_train.head()"
   ]
  },
  {
   "cell_type": "code",
   "execution_count": 42,
   "id": "f080de48-adef-4af4-8b84-a312f0df666e",
   "metadata": {},
   "outputs": [
    {
     "data": {
      "text/plain": [
       "[VocabularyListCategoricalColumn(key='sex', vocabulary_list=('male', 'female'), dtype=tf.string, default_value=-1, num_oov_buckets=0),\n",
       " VocabularyListCategoricalColumn(key='class', vocabulary_list=('Third', 'First', 'Second'), dtype=tf.string, default_value=-1, num_oov_buckets=0),\n",
       " VocabularyListCategoricalColumn(key='deck', vocabulary_list=('unknown', 'C', 'G', 'A', 'B', 'D', 'F', 'E'), dtype=tf.string, default_value=-1, num_oov_buckets=0),\n",
       " VocabularyListCategoricalColumn(key='parch', vocabulary_list=(0, 1, 2, 5, 3, 4), dtype=tf.int64, default_value=-1, num_oov_buckets=0),\n",
       " VocabularyListCategoricalColumn(key='embark_town', vocabulary_list=('Southampton', 'Cherbourg', 'Queenstown', 'unknown'), dtype=tf.string, default_value=-1, num_oov_buckets=0),\n",
       " VocabularyListCategoricalColumn(key='alone', vocabulary_list=('n', 'y'), dtype=tf.string, default_value=-1, num_oov_buckets=0),\n",
       " VocabularyListCategoricalColumn(key='n_siblings_spouses', vocabulary_list=(1, 0, 3, 4, 2, 5, 8), dtype=tf.int64, default_value=-1, num_oov_buckets=0),\n",
       " NumericColumn(key='age', shape=(1,), default_value=None, dtype=tf.float32, normalizer_fn=None),\n",
       " NumericColumn(key='fare', shape=(1,), default_value=None, dtype=tf.float32, normalizer_fn=None)]"
      ]
     },
     "metadata": {},
     "output_type": "display_data"
    }
   ],
   "source": [
    "categorical_columns = [\"sex\", \"class\", \"deck\", \"parch\", \"embark_town\", \"alone\", \"n_siblings_spouses\"]\n",
    "numeric_columns = [\"age\", \"fare\"]\n",
    "\n",
    "feature_columns = []\n",
    "for feature_name in categorical_columns:\n",
    "    vocabulary = X_train[feature_name].unique()\n",
    "    feature_columns.append(tf.feature_column.categorical_column_with_vocabulary_list(feature_name, vocabulary))\n",
    "\n",
    "for feature_name in numeric_columns:\n",
    "    feature_columns.append(tf.feature_column.numeric_column(feature_name, dtype=tf.float32))\n",
    "\n",
    "\n",
    "display(feature_columns)"
   ]
  },
  {
   "cell_type": "markdown",
   "id": "63c5ac3c-6c4d-473c-b793-2769f792828a",
   "metadata": {},
   "source": [
    "## Input Function\n",
    "Convert data into batches so model can learn "
   ]
  },
  {
   "cell_type": "code",
   "execution_count": 46,
   "id": "c2bbcb98-3ee3-48c4-8fa8-d1ab947abd9e",
   "metadata": {},
   "outputs": [],
   "source": [
    "def make_input_fn(data_df, label_df, num_epochs=10, shuffle=True, batch_size=32):\n",
    "    def input_function():\n",
    "        ds = tf.data.Dataset.from_tensor_slices((dict(data_df), label_df))\n",
    "        if shuffle:\n",
    "            ds = ds.shuffle(1000)\n",
    "        ds = ds.batch(batch_size).repeat(num_epochs)\n",
    "        return ds\n",
    "    return input_function"
   ]
  },
  {
   "cell_type": "code",
   "execution_count": 47,
   "id": "0b4716ee-761a-4a2a-8d7c-b727fcf7da9c",
   "metadata": {},
   "outputs": [],
   "source": [
    "train_input_fn = make_input_fn(X_train, y_train)\n",
    "test_input_fn = make_input_fn(X_test, y_test, num_epochs=1, shuffle=False)"
   ]
  },
  {
   "cell_type": "code",
   "execution_count": 48,
   "id": "3a6861af-1d93-4047-ab6d-02470ed3916a",
   "metadata": {},
   "outputs": [
    {
     "name": "stdout",
     "output_type": "stream",
     "text": [
      "INFO:tensorflow:Using default config.\n",
      "WARNING:tensorflow:Using temporary folder as model directory: /tmp/tmpo7498f0_\n",
      "INFO:tensorflow:Using config: {'_model_dir': '/tmp/tmpo7498f0_', '_tf_random_seed': None, '_save_summary_steps': 100, '_save_checkpoints_steps': None, '_save_checkpoints_secs': 600, '_session_config': allow_soft_placement: true\n",
      "graph_options {\n",
      "  rewrite_options {\n",
      "    meta_optimizer_iterations: ONE\n",
      "  }\n",
      "}\n",
      ", '_keep_checkpoint_max': 5, '_keep_checkpoint_every_n_hours': 10000, '_log_step_count_steps': 100, '_train_distribute': None, '_device_fn': None, '_protocol': None, '_eval_distribute': None, '_experimental_distribute': None, '_experimental_max_worker_delay_secs': None, '_session_creation_timeout_secs': 7200, '_checkpoint_save_graph_def': True, '_service': None, '_cluster_spec': ClusterSpec({}), '_task_type': 'worker', '_task_id': 0, '_global_id_in_cluster': 0, '_master': '', '_evaluation_master': '', '_is_chief': True, '_num_ps_replicas': 0, '_num_worker_replicas': 1}\n"
     ]
    }
   ],
   "source": [
    "linear_est = tf.estimator.LinearClassifier(feature_columns=feature_columns)"
   ]
  },
  {
   "cell_type": "code",
   "execution_count": 49,
   "id": "be77cc8a-472a-4a5f-acb1-d2369e74bb67",
   "metadata": {},
   "outputs": [
    {
     "name": "stdout",
     "output_type": "stream",
     "text": [
      "WARNING:tensorflow:From /home/sdevaraju/miniconda3/envs/ML_GPU/lib/python3.9/site-packages/tensorflow/python/training/training_util.py:396: Variable.initialized_value (from tensorflow.python.ops.variables) is deprecated and will be removed in a future version.\n",
      "Instructions for updating:\n",
      "Use Variable.read_value. Variables in 2.X are initialized automatically both in eager and graph (inside tf.defun) contexts.\n",
      "INFO:tensorflow:Calling model_fn.\n",
      "WARNING:tensorflow:From /home/sdevaraju/miniconda3/envs/ML_GPU/lib/python3.9/site-packages/keras/optimizers/optimizer_v2/ftrl.py:173: calling Constant.__init__ (from tensorflow.python.ops.init_ops) with dtype is deprecated and will be removed in a future version.\n",
      "Instructions for updating:\n",
      "Call initializer instance with the dtype argument instead of passing it to the constructor\n",
      "INFO:tensorflow:Done calling model_fn.\n",
      "INFO:tensorflow:Create CheckpointSaverHook.\n",
      "INFO:tensorflow:Graph was finalized.\n",
      "INFO:tensorflow:Running local_init_op.\n",
      "INFO:tensorflow:Done running local_init_op.\n",
      "INFO:tensorflow:Calling checkpoint listeners before saving checkpoint 0...\n",
      "INFO:tensorflow:Saving checkpoints for 0 into /tmp/tmpo7498f0_/model.ckpt.\n",
      "INFO:tensorflow:Calling checkpoint listeners after saving checkpoint 0...\n",
      "INFO:tensorflow:loss = 0.6931472, step = 0\n",
      "INFO:tensorflow:global_step/sec: 51.8317\n",
      "INFO:tensorflow:loss = 0.4382811, step = 100 (1.930 sec)\n",
      "INFO:tensorflow:Calling checkpoint listeners before saving checkpoint 200...\n",
      "INFO:tensorflow:Saving checkpoints for 200 into /tmp/tmpo7498f0_/model.ckpt.\n",
      "INFO:tensorflow:Calling checkpoint listeners after saving checkpoint 200...\n",
      "INFO:tensorflow:Loss for final step: 0.42926416.\n"
     ]
    },
    {
     "data": {
      "text/plain": [
       "<tensorflow_estimator.python.estimator.canned.linear.LinearClassifierV2 at 0x7fea6ea771c0>"
      ]
     },
     "execution_count": 49,
     "metadata": {},
     "output_type": "execute_result"
    }
   ],
   "source": [
    "linear_est.train(train_input_fn)"
   ]
  },
  {
   "cell_type": "code",
   "execution_count": 51,
   "id": "463e7a0f-6ca2-4730-a8d3-c2df7a8cf5b7",
   "metadata": {},
   "outputs": [
    {
     "name": "stdout",
     "output_type": "stream",
     "text": [
      "INFO:tensorflow:Calling model_fn.\n",
      "INFO:tensorflow:Done calling model_fn.\n",
      "INFO:tensorflow:Starting evaluation at 2023-01-04T15:50:57\n",
      "INFO:tensorflow:Graph was finalized.\n",
      "INFO:tensorflow:Restoring parameters from /tmp/tmpo7498f0_/model.ckpt-200\n",
      "INFO:tensorflow:Running local_init_op.\n",
      "INFO:tensorflow:Done running local_init_op.\n",
      "INFO:tensorflow:Inference Time : 0.96171s\n",
      "INFO:tensorflow:Finished evaluation at 2023-01-04-15:50:58\n",
      "INFO:tensorflow:Saving dict for global step 200: accuracy = 0.7537879, accuracy_baseline = 0.625, auc = 0.83458835, auc_precision_recall = 0.79503536, average_loss = 0.47111937, global_step = 200, label/mean = 0.375, loss = 0.46248192, precision = 0.6770833, prediction/mean = 0.37792665, recall = 0.65656567\n",
      "INFO:tensorflow:Saving 'checkpoint_path' summary for global step 200: /tmp/tmpo7498f0_/model.ckpt-200\n"
     ]
    }
   ],
   "source": [
    "result = linear_est.evaluate(test_input_fn)"
   ]
  },
  {
   "cell_type": "code",
   "execution_count": 52,
   "id": "5e08dbbc-de9b-48f5-8368-eb01ff520287",
   "metadata": {},
   "outputs": [
    {
     "data": {
      "text/plain": [
       "{'accuracy': 0.7537879,\n",
       " 'accuracy_baseline': 0.625,\n",
       " 'auc': 0.83458835,\n",
       " 'auc_precision_recall': 0.79503536,\n",
       " 'average_loss': 0.47111937,\n",
       " 'label/mean': 0.375,\n",
       " 'loss': 0.46248192,\n",
       " 'precision': 0.6770833,\n",
       " 'prediction/mean': 0.37792665,\n",
       " 'recall': 0.65656567,\n",
       " 'global_step': 200}"
      ]
     },
     "metadata": {},
     "output_type": "display_data"
    }
   ],
   "source": [
    "display(result)"
   ]
  },
  {
   "cell_type": "code",
   "execution_count": 53,
   "id": "9d850b01-79bc-4d6c-8054-9f02ca1a4f53",
   "metadata": {},
   "outputs": [
    {
     "name": "stdout",
     "output_type": "stream",
     "text": [
      "INFO:tensorflow:Calling model_fn.\n",
      "INFO:tensorflow:Done calling model_fn.\n",
      "INFO:tensorflow:Graph was finalized.\n",
      "INFO:tensorflow:Restoring parameters from /tmp/tmpo7498f0_/model.ckpt-200\n",
      "INFO:tensorflow:Running local_init_op.\n",
      "INFO:tensorflow:Done running local_init_op.\n"
     ]
    }
   ],
   "source": [
    "result = list(linear_est.predict(test_input_fn))"
   ]
  },
  {
   "cell_type": "code",
   "execution_count": 63,
   "id": "920afb39-c838-47b7-84b5-31626ecbb333",
   "metadata": {},
   "outputs": [
    {
     "data": {
      "text/plain": [
       "array([0.92681456, 0.07318545], dtype=float32)"
      ]
     },
     "metadata": {},
     "output_type": "display_data"
    },
    {
     "data": {
      "text/plain": [
       "0.07318545"
      ]
     },
     "metadata": {},
     "output_type": "display_data"
    }
   ],
   "source": [
    "display(result[0]['probabilities'])\n",
    "display(result[0]['probabilities'][1])  # Not Survived - idx 0, Survived - idx 1"
   ]
  },
  {
   "cell_type": "code",
   "execution_count": 64,
   "id": "7410d984-b1ab-4524-b1ea-36340ad66eb4",
   "metadata": {},
   "outputs": [
    {
     "data": {
      "text/plain": [
       "1"
      ]
     },
     "execution_count": 64,
     "metadata": {},
     "output_type": "execute_result"
    }
   ],
   "source": [
    "y_test.loc[3]"
   ]
  },
  {
   "cell_type": "code",
   "execution_count": 69,
   "id": "95887c13-f3b2-4d6b-8f88-096cf647642c",
   "metadata": {},
   "outputs": [
    {
     "data": {
      "text/plain": [
       "array([0.37408328, 0.6259167 ], dtype=float32)"
      ]
     },
     "metadata": {},
     "output_type": "display_data"
    }
   ],
   "source": [
    "display(result[3]['probabilities'])"
   ]
  },
  {
   "cell_type": "markdown",
   "id": "293e6d86-b8b0-4b24-933d-a5eafdaac8ac",
   "metadata": {},
   "source": [
    "# Classification"
   ]
  },
  {
   "cell_type": "markdown",
   "id": "8b1b8f22-432a-4d6a-9eff-703e26d1f17d",
   "metadata": {},
   "source": [
    "## Dataset\n",
    "This specific dataset seperates flowers into 3 different classes of species.\n",
    "- Setosa\n",
    "- Versicolor\n",
    "- Virginica\n",
    "\n",
    "The information about each flower is the following.\n",
    "- sepal length\n",
    "- sepal width\n",
    "- petal length\n",
    "- petal width"
   ]
  },
  {
   "cell_type": "code",
   "execution_count": 75,
   "id": "72a5a549-093d-48ce-b68f-0116deee4b13",
   "metadata": {},
   "outputs": [],
   "source": [
    "column_names = [\"SepalLength\", \"SepalWidth\", \"PetalLength\", \"PetalWidth\", \"Species\"]\n",
    "species = [\"Setosa\", \"Versicolor\", \"Virginica\"]"
   ]
  },
  {
   "cell_type": "code",
   "execution_count": 81,
   "id": "f7ef6c42-c504-4ff9-9c83-44e8394cf679",
   "metadata": {},
   "outputs": [],
   "source": [
    "train_path = tf.keras.utils.get_file(\"iris_training.csv\",  \"https://storage.googleapis.com/download.tensorflow.org/data/iris_training.csv\")\n",
    "test_path = tf.keras.utils.get_file(\"iris_test.csv\", \"https://storage.googleapis.com/download.tensorflow.org/data/iris_test.csv\")\n",
    "\n",
    "X_train = pd.read_csv(train_path, names=column_names, header=0)\n",
    "y_train = pd.read_csv(test_path, names=column_names, header=0)"
   ]
  },
  {
   "cell_type": "code",
   "execution_count": 82,
   "id": "8ba220f2-1493-4635-9a9a-552e99c35ed4",
   "metadata": {},
   "outputs": [
    {
     "data": {
      "text/html": [
       "<div>\n",
       "<style scoped>\n",
       "    .dataframe tbody tr th:only-of-type {\n",
       "        vertical-align: middle;\n",
       "    }\n",
       "\n",
       "    .dataframe tbody tr th {\n",
       "        vertical-align: top;\n",
       "    }\n",
       "\n",
       "    .dataframe thead th {\n",
       "        text-align: right;\n",
       "    }\n",
       "</style>\n",
       "<table border=\"1\" class=\"dataframe\">\n",
       "  <thead>\n",
       "    <tr style=\"text-align: right;\">\n",
       "      <th></th>\n",
       "      <th>SepalLength</th>\n",
       "      <th>SepalWidth</th>\n",
       "      <th>PetalLength</th>\n",
       "      <th>PetalWidth</th>\n",
       "      <th>Species</th>\n",
       "    </tr>\n",
       "  </thead>\n",
       "  <tbody>\n",
       "    <tr>\n",
       "      <th>0</th>\n",
       "      <td>6.4</td>\n",
       "      <td>2.8</td>\n",
       "      <td>5.6</td>\n",
       "      <td>2.2</td>\n",
       "      <td>2</td>\n",
       "    </tr>\n",
       "    <tr>\n",
       "      <th>1</th>\n",
       "      <td>5.0</td>\n",
       "      <td>2.3</td>\n",
       "      <td>3.3</td>\n",
       "      <td>1.0</td>\n",
       "      <td>1</td>\n",
       "    </tr>\n",
       "    <tr>\n",
       "      <th>2</th>\n",
       "      <td>4.9</td>\n",
       "      <td>2.5</td>\n",
       "      <td>4.5</td>\n",
       "      <td>1.7</td>\n",
       "      <td>2</td>\n",
       "    </tr>\n",
       "    <tr>\n",
       "      <th>3</th>\n",
       "      <td>4.9</td>\n",
       "      <td>3.1</td>\n",
       "      <td>1.5</td>\n",
       "      <td>0.1</td>\n",
       "      <td>0</td>\n",
       "    </tr>\n",
       "    <tr>\n",
       "      <th>4</th>\n",
       "      <td>5.7</td>\n",
       "      <td>3.8</td>\n",
       "      <td>1.7</td>\n",
       "      <td>0.3</td>\n",
       "      <td>0</td>\n",
       "    </tr>\n",
       "  </tbody>\n",
       "</table>\n",
       "</div>"
      ],
      "text/plain": [
       "   SepalLength  SepalWidth  PetalLength  PetalWidth  Species\n",
       "0          6.4         2.8          5.6         2.2        2\n",
       "1          5.0         2.3          3.3         1.0        1\n",
       "2          4.9         2.5          4.5         1.7        2\n",
       "3          4.9         3.1          1.5         0.1        0\n",
       "4          5.7         3.8          1.7         0.3        0"
      ]
     },
     "execution_count": 82,
     "metadata": {},
     "output_type": "execute_result"
    }
   ],
   "source": [
    "train_df.head()"
   ]
  },
  {
   "cell_type": "code",
   "execution_count": 83,
   "id": "a1948817-0168-4bc6-9c06-db6cbeeefb9a",
   "metadata": {},
   "outputs": [],
   "source": [
    "X_test = X_train.pop(\"Species\")\n",
    "y_test = y_train.pop(\"Species\")"
   ]
  },
  {
   "cell_type": "code",
   "execution_count": 85,
   "id": "728e1c98-69f5-4831-a132-5544df2bf7d7",
   "metadata": {},
   "outputs": [
    {
     "data": {
      "text/html": [
       "<div>\n",
       "<style scoped>\n",
       "    .dataframe tbody tr th:only-of-type {\n",
       "        vertical-align: middle;\n",
       "    }\n",
       "\n",
       "    .dataframe tbody tr th {\n",
       "        vertical-align: top;\n",
       "    }\n",
       "\n",
       "    .dataframe thead th {\n",
       "        text-align: right;\n",
       "    }\n",
       "</style>\n",
       "<table border=\"1\" class=\"dataframe\">\n",
       "  <thead>\n",
       "    <tr style=\"text-align: right;\">\n",
       "      <th></th>\n",
       "      <th>SepalLength</th>\n",
       "      <th>SepalWidth</th>\n",
       "      <th>PetalLength</th>\n",
       "      <th>PetalWidth</th>\n",
       "    </tr>\n",
       "  </thead>\n",
       "  <tbody>\n",
       "    <tr>\n",
       "      <th>0</th>\n",
       "      <td>6.4</td>\n",
       "      <td>2.8</td>\n",
       "      <td>5.6</td>\n",
       "      <td>2.2</td>\n",
       "    </tr>\n",
       "    <tr>\n",
       "      <th>1</th>\n",
       "      <td>5.0</td>\n",
       "      <td>2.3</td>\n",
       "      <td>3.3</td>\n",
       "      <td>1.0</td>\n",
       "    </tr>\n",
       "    <tr>\n",
       "      <th>2</th>\n",
       "      <td>4.9</td>\n",
       "      <td>2.5</td>\n",
       "      <td>4.5</td>\n",
       "      <td>1.7</td>\n",
       "    </tr>\n",
       "    <tr>\n",
       "      <th>3</th>\n",
       "      <td>4.9</td>\n",
       "      <td>3.1</td>\n",
       "      <td>1.5</td>\n",
       "      <td>0.1</td>\n",
       "    </tr>\n",
       "    <tr>\n",
       "      <th>4</th>\n",
       "      <td>5.7</td>\n",
       "      <td>3.8</td>\n",
       "      <td>1.7</td>\n",
       "      <td>0.3</td>\n",
       "    </tr>\n",
       "  </tbody>\n",
       "</table>\n",
       "</div>"
      ],
      "text/plain": [
       "   SepalLength  SepalWidth  PetalLength  PetalWidth\n",
       "0          6.4         2.8          5.6         2.2\n",
       "1          5.0         2.3          3.3         1.0\n",
       "2          4.9         2.5          4.5         1.7\n",
       "3          4.9         3.1          1.5         0.1\n",
       "4          5.7         3.8          1.7         0.3"
      ]
     },
     "execution_count": 85,
     "metadata": {},
     "output_type": "execute_result"
    }
   ],
   "source": [
    "X_train.head()"
   ]
  },
  {
   "cell_type": "markdown",
   "id": "d6177d6e-bbe2-48ec-90aa-7852f6f0bb4b",
   "metadata": {},
   "source": [
    "## Input Function"
   ]
  },
  {
   "cell_type": "code",
   "execution_count": 87,
   "id": "2b53d46c-e9df-4954-a3f1-15e846e552a2",
   "metadata": {},
   "outputs": [],
   "source": [
    "def input_fn(features, labels, training=True, batch_size=256):\n",
    "    dataset = tf.data.Dataset.from_tensor_slices((dict(features), labels))\n",
    "    \n",
    "    # Shuffle and repeat if training\n",
    "    if training:\n",
    "        dataset = dataset.shuffle(1000).repeat()\n",
    "    \n",
    "    return dataset.batch(batch_size)"
   ]
  },
  {
   "cell_type": "markdown",
   "id": "c74e08ed-fb71-4306-80c1-c5fbaab37748",
   "metadata": {},
   "source": [
    "## Feature Columns"
   ]
  },
  {
   "cell_type": "code",
   "execution_count": 89,
   "id": "9a3be772-55b9-47dc-85fb-fd1a9dbd9bd9",
   "metadata": {},
   "outputs": [],
   "source": [
    "feature_columns = []\n",
    "for key in X_train.keys():\n",
    "    feature_columns.append(tf.feature_column.numeric_column(key=key))"
   ]
  },
  {
   "cell_type": "markdown",
   "id": "8cdb20ca-8908-46bf-a590-3f50c36de79d",
   "metadata": {},
   "source": [
    "## Building Model\n",
    "\n",
    "- DNNClassifier (Deep Neural Network)\n",
    "- LinearClassifier"
   ]
  },
  {
   "cell_type": "code",
   "execution_count": 91,
   "id": "812006b0-e789-40ba-8643-266d6f45a137",
   "metadata": {},
   "outputs": [
    {
     "name": "stdout",
     "output_type": "stream",
     "text": [
      "INFO:tensorflow:Using default config.\n",
      "WARNING:tensorflow:Using temporary folder as model directory: /tmp/tmpum99o5ty\n",
      "INFO:tensorflow:Using config: {'_model_dir': '/tmp/tmpum99o5ty', '_tf_random_seed': None, '_save_summary_steps': 100, '_save_checkpoints_steps': None, '_save_checkpoints_secs': 600, '_session_config': allow_soft_placement: true\n",
      "graph_options {\n",
      "  rewrite_options {\n",
      "    meta_optimizer_iterations: ONE\n",
      "  }\n",
      "}\n",
      ", '_keep_checkpoint_max': 5, '_keep_checkpoint_every_n_hours': 10000, '_log_step_count_steps': 100, '_train_distribute': None, '_device_fn': None, '_protocol': None, '_eval_distribute': None, '_experimental_distribute': None, '_experimental_max_worker_delay_secs': None, '_session_creation_timeout_secs': 7200, '_checkpoint_save_graph_def': True, '_service': None, '_cluster_spec': ClusterSpec({}), '_task_type': 'worker', '_task_id': 0, '_global_id_in_cluster': 0, '_master': '', '_evaluation_master': '', '_is_chief': True, '_num_ps_replicas': 0, '_num_worker_replicas': 1}\n"
     ]
    }
   ],
   "source": [
    "classifier = tf.estimator.DNNClassifier(\n",
    "    feature_columns=feature_columns,\n",
    "    # Two hidden layers of 30 and 10 nodes respectively\n",
    "    hidden_units=[30, 10],\n",
    "    # Choose between 3 classes\n",
    "    n_classes=3)"
   ]
  },
  {
   "cell_type": "markdown",
   "id": "683aedbf-dc23-4031-a848-d95715763442",
   "metadata": {},
   "source": [
    "## Training"
   ]
  },
  {
   "cell_type": "code",
   "execution_count": 97,
   "id": "bf38bf59-0c8c-49ac-805e-9a6394e2e291",
   "metadata": {},
   "outputs": [
    {
     "name": "stdout",
     "output_type": "stream",
     "text": [
      "INFO:tensorflow:Calling model_fn.\n",
      "INFO:tensorflow:Done calling model_fn.\n",
      "INFO:tensorflow:Create CheckpointSaverHook.\n",
      "INFO:tensorflow:Graph was finalized.\n",
      "INFO:tensorflow:Restoring parameters from /tmp/tmpum99o5ty/model.ckpt-5\n",
      "WARNING:tensorflow:From /home/sdevaraju/miniconda3/envs/ML_GPU/lib/python3.9/site-packages/tensorflow/python/training/saver.py:1173: get_checkpoint_mtimes (from tensorflow.python.checkpoint.checkpoint_management) is deprecated and will be removed in a future version.\n",
      "Instructions for updating:\n",
      "Use standard file utilities to get mtimes.\n",
      "INFO:tensorflow:Running local_init_op.\n",
      "INFO:tensorflow:Done running local_init_op.\n",
      "INFO:tensorflow:Calling checkpoint listeners before saving checkpoint 5...\n",
      "INFO:tensorflow:Saving checkpoints for 5 into /tmp/tmpum99o5ty/model.ckpt.\n",
      "INFO:tensorflow:Calling checkpoint listeners after saving checkpoint 5...\n",
      "INFO:tensorflow:loss = 2.2234735, step = 5\n",
      "INFO:tensorflow:global_step/sec: 265.135\n",
      "INFO:tensorflow:loss = 1.5384171, step = 105 (0.378 sec)\n",
      "INFO:tensorflow:global_step/sec: 337.088\n",
      "INFO:tensorflow:loss = 1.2982359, step = 205 (0.297 sec)\n",
      "INFO:tensorflow:global_step/sec: 339.607\n",
      "INFO:tensorflow:loss = 1.146658, step = 305 (0.294 sec)\n",
      "INFO:tensorflow:global_step/sec: 336.795\n",
      "INFO:tensorflow:loss = 1.0460106, step = 405 (0.297 sec)\n",
      "INFO:tensorflow:global_step/sec: 317.796\n",
      "INFO:tensorflow:loss = 1.016963, step = 505 (0.315 sec)\n",
      "INFO:tensorflow:global_step/sec: 320.268\n",
      "INFO:tensorflow:loss = 0.9725073, step = 605 (0.312 sec)\n",
      "INFO:tensorflow:global_step/sec: 273.879\n",
      "INFO:tensorflow:loss = 0.9649266, step = 705 (0.365 sec)\n",
      "INFO:tensorflow:global_step/sec: 357.443\n",
      "INFO:tensorflow:loss = 0.9484666, step = 805 (0.280 sec)\n",
      "INFO:tensorflow:global_step/sec: 360.614\n",
      "INFO:tensorflow:loss = 0.9262321, step = 905 (0.277 sec)\n",
      "INFO:tensorflow:global_step/sec: 358.785\n",
      "INFO:tensorflow:loss = 0.9083884, step = 1005 (0.279 sec)\n",
      "INFO:tensorflow:global_step/sec: 359.194\n",
      "INFO:tensorflow:loss = 0.91542065, step = 1105 (0.278 sec)\n",
      "INFO:tensorflow:global_step/sec: 355.977\n",
      "INFO:tensorflow:loss = 0.91234845, step = 1205 (0.281 sec)\n",
      "INFO:tensorflow:global_step/sec: 358.585\n",
      "INFO:tensorflow:loss = 0.9207851, step = 1305 (0.279 sec)\n",
      "INFO:tensorflow:global_step/sec: 296.694\n",
      "INFO:tensorflow:loss = 0.8876976, step = 1405 (0.337 sec)\n",
      "INFO:tensorflow:global_step/sec: 329.822\n",
      "INFO:tensorflow:loss = 0.8971851, step = 1505 (0.303 sec)\n",
      "INFO:tensorflow:global_step/sec: 363.118\n",
      "INFO:tensorflow:loss = 0.89875174, step = 1605 (0.275 sec)\n",
      "INFO:tensorflow:global_step/sec: 365.923\n",
      "INFO:tensorflow:loss = 0.9023435, step = 1705 (0.273 sec)\n",
      "INFO:tensorflow:global_step/sec: 372.96\n",
      "INFO:tensorflow:loss = 0.88887554, step = 1805 (0.268 sec)\n",
      "INFO:tensorflow:global_step/sec: 374.079\n",
      "INFO:tensorflow:loss = 0.88122624, step = 1905 (0.267 sec)\n",
      "INFO:tensorflow:global_step/sec: 379.902\n",
      "INFO:tensorflow:loss = 0.89970875, step = 2005 (0.263 sec)\n",
      "INFO:tensorflow:global_step/sec: 363.102\n",
      "INFO:tensorflow:loss = 0.88214654, step = 2105 (0.275 sec)\n",
      "INFO:tensorflow:global_step/sec: 286.579\n",
      "INFO:tensorflow:loss = 0.90168166, step = 2205 (0.349 sec)\n",
      "INFO:tensorflow:global_step/sec: 376.371\n",
      "INFO:tensorflow:loss = 0.8842155, step = 2305 (0.266 sec)\n",
      "INFO:tensorflow:global_step/sec: 376.731\n",
      "INFO:tensorflow:loss = 0.8803166, step = 2405 (0.265 sec)\n",
      "INFO:tensorflow:global_step/sec: 378.856\n",
      "INFO:tensorflow:loss = 0.8747516, step = 2505 (0.264 sec)\n",
      "INFO:tensorflow:global_step/sec: 319.454\n",
      "INFO:tensorflow:loss = 0.85976964, step = 2605 (0.313 sec)\n",
      "INFO:tensorflow:global_step/sec: 362.448\n",
      "INFO:tensorflow:loss = 0.86439437, step = 2705 (0.276 sec)\n",
      "INFO:tensorflow:global_step/sec: 372.844\n",
      "INFO:tensorflow:loss = 0.87024987, step = 2805 (0.268 sec)\n",
      "INFO:tensorflow:global_step/sec: 376.33\n",
      "INFO:tensorflow:loss = 0.8832082, step = 2905 (0.266 sec)\n",
      "INFO:tensorflow:global_step/sec: 366.615\n",
      "INFO:tensorflow:loss = 0.86836165, step = 3005 (0.273 sec)\n",
      "INFO:tensorflow:global_step/sec: 359.045\n",
      "INFO:tensorflow:loss = 0.8540232, step = 3105 (0.279 sec)\n",
      "INFO:tensorflow:global_step/sec: 361.117\n",
      "INFO:tensorflow:loss = 0.87597966, step = 3205 (0.277 sec)\n",
      "INFO:tensorflow:global_step/sec: 361.085\n",
      "INFO:tensorflow:loss = 0.8641072, step = 3305 (0.277 sec)\n",
      "INFO:tensorflow:global_step/sec: 336.356\n",
      "INFO:tensorflow:loss = 0.8331919, step = 3405 (0.297 sec)\n",
      "INFO:tensorflow:global_step/sec: 341.842\n",
      "INFO:tensorflow:loss = 0.8373846, step = 3505 (0.292 sec)\n",
      "INFO:tensorflow:global_step/sec: 259.957\n",
      "INFO:tensorflow:loss = 0.8435473, step = 3605 (0.385 sec)\n",
      "INFO:tensorflow:global_step/sec: 267.202\n",
      "INFO:tensorflow:loss = 0.86015594, step = 3705 (0.374 sec)\n",
      "INFO:tensorflow:global_step/sec: 426.815\n",
      "INFO:tensorflow:loss = 0.8291153, step = 3805 (0.234 sec)\n",
      "INFO:tensorflow:global_step/sec: 429.441\n",
      "INFO:tensorflow:loss = 0.84497726, step = 3905 (0.233 sec)\n",
      "INFO:tensorflow:global_step/sec: 438.053\n",
      "INFO:tensorflow:loss = 0.81161207, step = 4005 (0.228 sec)\n",
      "INFO:tensorflow:global_step/sec: 428.857\n",
      "INFO:tensorflow:loss = 0.81966215, step = 4105 (0.233 sec)\n",
      "INFO:tensorflow:global_step/sec: 429.136\n",
      "INFO:tensorflow:loss = 0.82739663, step = 4205 (0.233 sec)\n",
      "INFO:tensorflow:global_step/sec: 423.235\n",
      "INFO:tensorflow:loss = 0.82040465, step = 4305 (0.236 sec)\n",
      "INFO:tensorflow:global_step/sec: 430.682\n",
      "INFO:tensorflow:loss = 0.8241852, step = 4405 (0.232 sec)\n",
      "INFO:tensorflow:global_step/sec: 436.519\n",
      "INFO:tensorflow:loss = 0.81600755, step = 4505 (0.229 sec)\n",
      "INFO:tensorflow:global_step/sec: 423.075\n",
      "INFO:tensorflow:loss = 0.81720454, step = 4605 (0.237 sec)\n",
      "INFO:tensorflow:global_step/sec: 388.279\n",
      "INFO:tensorflow:loss = 0.79942733, step = 4705 (0.257 sec)\n",
      "INFO:tensorflow:global_step/sec: 404.065\n",
      "INFO:tensorflow:loss = 0.81668866, step = 4805 (0.248 sec)\n",
      "INFO:tensorflow:global_step/sec: 402.642\n",
      "INFO:tensorflow:loss = 0.81700695, step = 4905 (0.248 sec)\n",
      "INFO:tensorflow:Calling checkpoint listeners before saving checkpoint 5005...\n",
      "INFO:tensorflow:Saving checkpoints for 5005 into /tmp/tmpum99o5ty/model.ckpt.\n",
      "INFO:tensorflow:Calling checkpoint listeners after saving checkpoint 5005...\n",
      "INFO:tensorflow:Loss for final step: 0.7822157.\n"
     ]
    },
    {
     "data": {
      "text/plain": [
       "<tensorflow_estimator.python.estimator.canned.dnn.DNNClassifierV2 at 0x7fea5055d970>"
      ]
     },
     "execution_count": 97,
     "metadata": {},
     "output_type": "execute_result"
    }
   ],
   "source": [
    "classifier.train(\n",
    "    input_fn=lambda: input_fn(X_train, X_test, training=True), steps=5000)"
   ]
  },
  {
   "cell_type": "code",
   "execution_count": 102,
   "id": "f1ed79e5-ab2d-47b6-b70f-497f734d633d",
   "metadata": {},
   "outputs": [
    {
     "name": "stdout",
     "output_type": "stream",
     "text": [
      "INFO:tensorflow:Calling model_fn.\n",
      "INFO:tensorflow:Done calling model_fn.\n",
      "INFO:tensorflow:Starting evaluation at 2023-01-04T17:11:25\n",
      "INFO:tensorflow:Graph was finalized.\n",
      "INFO:tensorflow:Restoring parameters from /tmp/tmpum99o5ty/model.ckpt-5005\n",
      "INFO:tensorflow:Running local_init_op.\n",
      "INFO:tensorflow:Done running local_init_op.\n",
      "INFO:tensorflow:Inference Time : 0.13772s\n",
      "INFO:tensorflow:Finished evaluation at 2023-01-04-17:11:25\n",
      "INFO:tensorflow:Saving dict for global step 5005: accuracy = 0.53333336, average_loss = 0.9253236, global_step = 5005, loss = 0.9253236\n",
      "INFO:tensorflow:Saving 'checkpoint_path' summary for global step 5005: /tmp/tmpum99o5ty/model.ckpt-5005\n"
     ]
    }
   ],
   "source": [
    "classifier_result = classifier.evaluate(input_fn=lambda: input_fn(y_train, y_test, training=False))"
   ]
  },
  {
   "cell_type": "code",
   "execution_count": 118,
   "id": "4fea96e1-bd30-4faa-b81d-5252f6fdeac8",
   "metadata": {},
   "outputs": [],
   "source": [
    "features = column_names[:-1]\n",
    "predict = {}"
   ]
  },
  {
   "cell_type": "code",
   "execution_count": 119,
   "id": "b48b1325-827a-42df-a5fc-81f98c89a108",
   "metadata": {},
   "outputs": [
    {
     "data": {
      "text/plain": [
       "['SepalLength', 'SepalWidth', 'PetalLength', 'PetalWidth']"
      ]
     },
     "execution_count": 119,
     "metadata": {},
     "output_type": "execute_result"
    }
   ],
   "source": [
    "features"
   ]
  },
  {
   "cell_type": "code",
   "execution_count": 121,
   "id": "1ad11835-81fc-46f3-942f-cfe1f1fe671e",
   "metadata": {},
   "outputs": [
    {
     "name": "stdout",
     "output_type": "stream",
     "text": [
      "Enter numeric values only \t :\n"
     ]
    },
    {
     "name": "stdin",
     "output_type": "stream",
     "text": [
      "SepalLength: 2\n",
      "SepalWidth: 3\n",
      "PetalLength: 4\n",
      "PetalWidth: 5\n"
     ]
    }
   ],
   "source": [
    "print(\"Enter numeric values only \\t :\")\n",
    "for feature in features:\n",
    "    val = input(feature + \":\")\n",
    "    if not val.isdigit(): \n",
    "        break\n",
    "    predict[feature] = [float(val)]"
   ]
  },
  {
   "cell_type": "code",
   "execution_count": 122,
   "id": "f4eeb4c3-4ec0-4ba5-9d38-82dfbf6448df",
   "metadata": {},
   "outputs": [
    {
     "data": {
      "text/plain": [
       "{'SepalLength': [2.0],\n",
       " 'SepalWidth': [3.0],\n",
       " 'PetalLength': [4.0],\n",
       " 'PetalWidth': [5.0]}"
      ]
     },
     "execution_count": 122,
     "metadata": {},
     "output_type": "execute_result"
    }
   ],
   "source": [
    "predict"
   ]
  },
  {
   "cell_type": "code",
   "execution_count": 125,
   "id": "10f3b4c9-ad13-44e3-86d0-df6dc157af76",
   "metadata": {},
   "outputs": [],
   "source": [
    "def input_fn_predict(features, batch_size=256):\n",
    "    return tf.data.Dataset.from_tensor_slices(dict(features)).batch(batch_size)\n",
    "    "
   ]
  },
  {
   "cell_type": "code",
   "execution_count": 130,
   "id": "2be00785-8b60-4b1d-92b4-4ab8cdcfea36",
   "metadata": {},
   "outputs": [
    {
     "name": "stdout",
     "output_type": "stream",
     "text": [
      "INFO:tensorflow:Calling model_fn.\n",
      "INFO:tensorflow:Done calling model_fn.\n",
      "INFO:tensorflow:Graph was finalized.\n",
      "INFO:tensorflow:Restoring parameters from /tmp/tmpum99o5ty/model.ckpt-5005\n",
      "INFO:tensorflow:Running local_init_op.\n",
      "INFO:tensorflow:Done running local_init_op.\n",
      "Prediction is Virginica with 69.60121989250183 probability\n"
     ]
    }
   ],
   "source": [
    "predictions = classifier.predict(input_fn=lambda: input_fn_predict(predict))\n",
    "for pred_dict in predictions:\n",
    "    class_id = pred_dict['class_ids'][0]\n",
    "    probability = pred_dict['probabilities'][class_id]\n",
    "    print(f\"Prediction is {species[class_id]} with {probability*100} probability\")"
   ]
  },
  {
   "cell_type": "code",
   "execution_count": null,
   "id": "36089191-bf18-4ab8-8c89-8a493d47c70b",
   "metadata": {},
   "outputs": [],
   "source": []
  },
  {
   "cell_type": "markdown",
   "id": "ad7dee74-ca8b-4a42-8ea0-50f50275b9b7",
   "metadata": {},
   "source": [
    "## Clustering"
   ]
  },
  {
   "cell_type": "code",
   "execution_count": null,
   "id": "d864e882-27b2-4b97-b137-0bb779c81b24",
   "metadata": {},
   "outputs": [],
   "source": []
  }
 ],
 "metadata": {
  "kernelspec": {
   "display_name": "ML",
   "language": "python",
   "name": "ml"
  },
  "language_info": {
   "codemirror_mode": {
    "name": "ipython",
    "version": 3
   },
   "file_extension": ".py",
   "mimetype": "text/x-python",
   "name": "python",
   "nbconvert_exporter": "python",
   "pygments_lexer": "ipython3",
   "version": "3.9.15"
  }
 },
 "nbformat": 4,
 "nbformat_minor": 5
}
